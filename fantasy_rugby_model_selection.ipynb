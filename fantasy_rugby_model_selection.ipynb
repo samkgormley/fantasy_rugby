{
 "cells": [
  {
   "cell_type": "markdown",
   "id": "circular-legislation",
   "metadata": {},
   "source": [
    "# Libraries, Preferences and Data Input"
   ]
  },
  {
   "cell_type": "code",
   "execution_count": 1,
   "id": "increased-venezuela",
   "metadata": {},
   "outputs": [],
   "source": [
    "import pandas as pd\n",
    "import numpy as np\n",
    "\n",
    "import seaborn as sns\n",
    "import matplotlib.pyplot as plt"
   ]
  },
  {
   "cell_type": "code",
   "execution_count": 2,
   "id": "living-nerve",
   "metadata": {},
   "outputs": [],
   "source": [
    "from sklearn.model_selection import cross_val_score, KFold, GridSearchCV\n",
    "from sklearn.linear_model import LinearRegression, Ridge, Lasso\n",
    "from sklearn.metrics import mean_squared_error\n",
    "from sklearn.pipeline import Pipeline\n",
    "from sklearn.preprocessing import StandardScaler"
   ]
  },
  {
   "cell_type": "code",
   "execution_count": 3,
   "id": "liable-august",
   "metadata": {},
   "outputs": [],
   "source": [
    "%config Completer.use_jedi = False"
   ]
  },
  {
   "cell_type": "code",
   "execution_count": 90,
   "id": "palestinian-sodium",
   "metadata": {},
   "outputs": [],
   "source": [
    "# read in the historical training data\n",
    "players_training = pd.read_csv(\"players_training.csv\", index_col='player')\n",
    "\n",
    "# Choose appropriate week for model selection\n",
    "players_test = pd.read_csv(\"players_week1.csv\", index_col='player')\n",
    "# players_test = pd.read_csv(\"players_week2.csv\", index_col='player')\n",
    "\n",
    "y_test = players_test['overall_score']\n",
    "players_test.drop('overall_score', axis=1, inplace=True)\n",
    "\n",
    "# Choose appropriate week for predictions\n",
    "players_pred = pd.read_csv(\"players_week1.csv\", index_col='player', usecols=[0,1,2,3,4,5])\n",
    "# players_pred = pd.read_csv(\"players_week2.csv\", index_col='player', usecols=[0,1,2,3,4,5])"
   ]
  },
  {
   "cell_type": "code",
   "execution_count": 5,
   "id": "armed-right",
   "metadata": {},
   "outputs": [],
   "source": [
    "\n",
    "\n",
    "results_week1 = pd.read_csv(\"results_week1.csv\", index_col='country')\n",
    "results_week2 = pd.read_csv(\"results_week2.csv\", index_col='country')\n",
    "results_week3 = pd.read_csv(\"results_week3.csv\", index_col='country')\n",
    "# results_week4 = pd.read_csv(\"results_week4.csv\", index_col='country')\n",
    "# results_week5 = pd.read_csv(\"results_week5.csv\", index_col='country')"
   ]
  },
  {
   "cell_type": "code",
   "execution_count": 6,
   "id": "hazardous-former",
   "metadata": {},
   "outputs": [],
   "source": [
    "# Input current kickers for each team\n",
    "\n",
    "kickers = [\n",
    "    'O. Farrell', 'G. Ford', 'M. Malins', # england\n",
    "    'M. Jalibert', 'L. Carbonel', # france\n",
    "    'J. Sexton', 'B. Burns', 'R. Byrne', # ireland\n",
    "    'P. Garbisi', 'T. Allan', 'C. Canna', # italy\n",
    "    'F. Russell', 'J. van der Walt' # scotland\n",
    "    'D. Biggar', 'L. Halfpenny', 'C. Sheedy', 'J. Evans' #wales\n",
    "]"
   ]
  },
  {
   "cell_type": "markdown",
   "id": "direct-korea",
   "metadata": {},
   "source": [
    "# Helper Code"
   ]
  },
  {
   "cell_type": "code",
   "execution_count": 7,
   "id": "auburn-princeton",
   "metadata": {},
   "outputs": [],
   "source": [
    "def team_points_calculator(country, mins, week):\n",
    "    \"\"\"\n",
    "    Calculates the number of team points assigned to each player, based on their country, the number of minutes they played, and the result.\n",
    "    \"\"\"\n",
    "    \n",
    "    if week == 1:\n",
    "        results = results_week1\n",
    "    elif week == 2:\n",
    "        results = results_week2\n",
    "    elif week == 3:\n",
    "        results = results_week3\n",
    "    elif week == 4:\n",
    "        results = results_week4\n",
    "    elif week == 5:\n",
    "        results = results_week5\n",
    "    \n",
    "    \n",
    "    # calculate the the home/away points\n",
    "    outcome = 0\n",
    "    if results.loc[country, 'home'] == 1:\n",
    "        if results.loc[country, 'for'] > results.loc[country, 'against']:\n",
    "            outcome += 12\n",
    "        elif results.loc[country, 'for'] == results.loc[country, 'against']:\n",
    "            outcome += 4\n",
    "        else:\n",
    "            outcome += 1\n",
    "    else:\n",
    "        if results.loc[country, 'for'] > results.loc[country, 'against']:\n",
    "            outcome += 18\n",
    "        elif results.loc[country, 'for'] == results.loc[country, 'against']:\n",
    "            outcome += 10\n",
    "        else:\n",
    "            outcome += 3\n",
    "    \n",
    "    # calculate the score difference points\n",
    "    score_diff = (results.loc[country, 'for'] - results.loc[country, 'against']) * 0.5\n",
    "    \n",
    "    # calculate the points assigned to each player\n",
    "    team_points = round((outcome + score_diff) * (mins / 80), 2)\n",
    "\n",
    "    return team_points"
   ]
  },
  {
   "cell_type": "code",
   "execution_count": 8,
   "id": "stopped-greene",
   "metadata": {},
   "outputs": [],
   "source": [
    "def ind_points_calculator(tackles, d_tackles, t_breaks, m_ball, mom, tries, conversions, penalties, d_goals, yellow, red):\n",
    "    \"\"\"\n",
    "    Calculates the number of individual points assigned to each play, based on their fixure metrics.\n",
    "    \"\"\"\n",
    "    \n",
    "    ind_points = round(\n",
    "        tackles * 1 +\n",
    "        d_tackles * 2 +\n",
    "        t_breaks * 2 +\n",
    "        m_ball * 0.3 +\n",
    "        mom * 15 +\n",
    "        tries * 15 +\n",
    "        conversions * 3 +\n",
    "        penalties * 3 +\n",
    "        d_goals * 6 +\n",
    "        yellow * -5 +\n",
    "        red * -10\n",
    "    ,2)\n",
    "    \n",
    "    return ind_points"
   ]
  },
  {
   "cell_type": "code",
   "execution_count": 9,
   "id": "indian-sponsorship",
   "metadata": {},
   "outputs": [],
   "source": [
    "def v_italy_generator(week, country):\n",
    "    \"\"\"\n",
    "    Determines whether each player is playing against Italy or not in a given week.\n",
    "    \"\"\"\n",
    "    \n",
    "    if week == 1 and country == 'France':\n",
    "        return 1\n",
    "    elif week == 2 and country == 'England':\n",
    "        return 1\n",
    "    elif week == 3 and country == 'Ireland':\n",
    "        return 1\n",
    "    elif week == 4 and country == 'Wales':\n",
    "        return 1\n",
    "    elif week == 5 and country == 'Scotland':\n",
    "        return 1\n",
    "    else:\n",
    "        return 0"
   ]
  },
  {
   "cell_type": "code",
   "execution_count": 10,
   "id": "resident-brush",
   "metadata": {},
   "outputs": [],
   "source": [
    "\n",
    "unused_features = ['mom', 'yellow', 'red', 'd_goals', 'week']\n",
    "unused_scores = ['team_score', 'ind_score']\n",
    "\n",
    "# create a list of all columns that we will be separately addressing as target features\n",
    "outputs = ['mins', 'tackles', 'd_tackles', 't_breaks', 'm_ball', 'tries', 'conversions', 'penalties']\n",
    "\n",
    "# create a list of all columns that we will be using as input features\n",
    "features = ['cost', 'started', 'England', 'France', 'Ireland', 'Italy', 'Scotland', 'Wales', 'Back Row', 'Centre', 'Fly Half', 'Full Back', 'Hooker', \n",
    "            'Prop', 'Scrum Half', 'Second Row', 'Wing', 'v_italy', 'kicker']\n",
    "\n",
    "\n",
    "feature_interactions = ['cost_started', 'cost_England', 'cost_France', 'cost_Ireland', 'cost_Italy', 'cost_Scotland', 'cost_Wales', 'cost_Back Row',\n",
    "                        'cost_Centre', 'cost_Fly Half', 'cost_Full Back', 'cost_Hooker', 'cost_Prop', 'cost_Scrum Half', 'cost_Second Row', 'cost_Wing',\n",
    "                        'cost_v_italy', 'cost_kicker']"
   ]
  },
  {
   "cell_type": "markdown",
   "id": "unauthorized-electric",
   "metadata": {},
   "source": [
    "# Training Data Prep"
   ]
  },
  {
   "cell_type": "code",
   "execution_count": 11,
   "id": "convertible-destination",
   "metadata": {},
   "outputs": [],
   "source": [
    "def training_data_processor(data):\n",
    "    \"\"\"\n",
    "    Prepares the training data for modelling purposes.\n",
    "    \"\"\"\n",
    "    \n",
    "    # replace any NaN values with zero.\n",
    "    data = data.fillna(0)\n",
    "    \n",
    "    # designate the prospective kickers\n",
    "    data = data.reset_index()\n",
    "    data['kicker'] = data['player'].apply(lambda x: 1 if x in kickers else 0)\n",
    "    data = data.set_index('player')\n",
    "    \n",
    "    # designate the players playing against Italy\n",
    "    data['v_italy'] = data.apply(lambda x: v_italy_generator(x['week'], x['country']), axis=1)\n",
    "    \n",
    "    # calculate the team scores based on mins and result\n",
    "    data['team_score'] = data.apply(lambda x: team_points_calculator(x['country'], x['mins'], x['week']), axis=1)\n",
    "\n",
    "    # calculate the individual score based on metrics\n",
    "    data['ind_score'] = data.apply(lambda x: ind_points_calculator(\n",
    "        x['tackles'], x['d_tackles'], x['t_breaks'], x['m_ball'], x['mom'],\n",
    "        x['tries'], x['conversions'], x['penalties'], x['d_goals'], x['yellow'], x['red']\n",
    "    ), axis=1)\n",
    "    \n",
    "    # calculate the overall score\n",
    "    data['overall_score'] = data['team_score'] + data['ind_score']\n",
    "    \n",
    "    # convert the categorical columns into dummy variables\n",
    "    data = pd.get_dummies(data, columns=['country', 'position'], prefix=\"\", prefix_sep=\"\")\n",
    "    \n",
    "    # generate feature interactions for all dummy variables with the cost variable\n",
    "    data['cost_started'] = data['cost'] * data['started'] \n",
    "    data['cost_England'] = data['cost'] * data['England'] \n",
    "    data['cost_France'] = data['cost'] * data['France'] \n",
    "    data['cost_Ireland'] = data['cost'] * data['Ireland'] \n",
    "    data['cost_Italy'] = data['cost'] * data['Italy'] \n",
    "    data['cost_Scotland'] = data['cost'] * data['Scotland'] \n",
    "    data['cost_Wales'] = data['cost'] * data['Wales'] \n",
    "    data['cost_Back Row'] = data['cost'] * data['Back Row'] \n",
    "    data['cost_Centre'] = data['cost'] * data['Centre'] \n",
    "    data['cost_Fly Half'] = data['cost'] * data['Fly Half'] \n",
    "    data['cost_Full Back'] = data['cost'] * data['Full Back'] \n",
    "    data['cost_Hooker'] = data['cost'] * data['Hooker'] \n",
    "    data['cost_Prop'] = data['cost'] * data['Prop'] \n",
    "    data['cost_Scrum Half'] = data['cost'] * data['Scrum Half'] \n",
    "    data['cost_Second Row'] = data['cost'] * data['Second Row'] \n",
    "    data['cost_Wing'] = data['cost'] * data['Wing'] \n",
    "    data['cost_v_italy'] = data['cost'] * data['v_italy'] \n",
    "    data['cost_kicker'] = data['cost'] * data['kicker'] \n",
    "    \n",
    "    # drop the features which won't be used for modelling\n",
    "    data = data.drop(unused_features + unused_scores, axis=1)\n",
    "    \n",
    "    # move the target variable to the end for readibility\n",
    "    data['overall_score'] = data.pop('overall_score')\n",
    "    \n",
    "    return data"
   ]
  },
  {
   "cell_type": "code",
   "execution_count": 12,
   "id": "exposed-performance",
   "metadata": {},
   "outputs": [],
   "source": [
    "# process the training data for modelling\n",
    "players_training_processed = training_data_processor(players_training)"
   ]
  },
  {
   "cell_type": "code",
   "execution_count": 13,
   "id": "optical-pointer",
   "metadata": {},
   "outputs": [],
   "source": [
    "players_training_processed.to_csv(\"players_training_processed.csv\")"
   ]
  },
  {
   "cell_type": "code",
   "execution_count": 14,
   "id": "olive-egypt",
   "metadata": {},
   "outputs": [],
   "source": [
    "def feature_coefficients(model, feature_interactions=[]):\n",
    "    \"\"\"\n",
    "    \n",
    "    \"\"\"\n",
    "    \n",
    "    features_list = players_training_processed[features + feature_interactions].columns\n",
    "    coefficients = model.coef_\n",
    "    \n",
    "    df = pd.DataFrame({'features': features_list, 'coefficient': coefficients})\n",
    "    \n",
    "    return df"
   ]
  },
  {
   "cell_type": "code",
   "execution_count": 15,
   "id": "cultural-luxembourg",
   "metadata": {},
   "outputs": [],
   "source": [
    "def test_data_predictor_single(data, model, feature_interactions=False):\n",
    "    \"\"\"\n",
    "    \n",
    "    \"\"\"\n",
    "\n",
    "    data = data.reset_index()\n",
    "    data['kicker'] = data['player'].apply(lambda x: 1 if x in kickers else 0)\n",
    "    data = data.set_index('player')\n",
    "    \n",
    "    data['v_italy'] = data.apply(lambda x: v_italy_generator(x['week'], x['country']), axis=1)\n",
    "    data = data.drop('week', axis=1)\n",
    "\n",
    "    data = pd.get_dummies(data, columns=['country', 'position'], prefix=\"\", prefix_sep=\"\")\n",
    "\n",
    "    if feature_interactions == True:\n",
    "        data['cost_started'] = data['cost'] * data['started'] \n",
    "        data['cost_England'] = data['cost'] * data['England'] \n",
    "        data['cost_France'] = data['cost'] * data['France'] \n",
    "        data['cost_Ireland'] = data['cost'] * data['Ireland'] \n",
    "        data['cost_Italy'] = data['cost'] * data['Italy'] \n",
    "        data['cost_Scotland'] = data['cost'] * data['Scotland'] \n",
    "        data['cost_Wales'] = data['cost'] * data['Wales'] \n",
    "        data['cost_Back Row'] = data['cost'] * data['Back Row'] \n",
    "        data['cost_Centre'] = data['cost'] * data['Centre'] \n",
    "        data['cost_Fly Half'] = data['cost'] * data['Fly Half'] \n",
    "        data['cost_Full Back'] = data['cost'] * data['Full Back'] \n",
    "        data['cost_Hooker'] = data['cost'] * data['Hooker'] \n",
    "        data['cost_Prop'] = data['cost'] * data['Prop'] \n",
    "        data['cost_Scrum Half'] = data['cost'] * data['Scrum Half'] \n",
    "        data['cost_Second Row'] = data['cost'] * data['Second Row'] \n",
    "        data['cost_Wing'] = data['cost'] * data['Wing'] \n",
    "        data['cost_v_italy'] = data['cost'] * data['v_italy'] \n",
    "        data['cost_kicker'] = data['cost'] * data['kicker']\n",
    "\n",
    "    \n",
    "    data['overall_score'] = model.predict(data).round(2)\n",
    "    \n",
    "    return data"
   ]
  },
  {
   "cell_type": "code",
   "execution_count": 16,
   "id": "bottom-driver",
   "metadata": {},
   "outputs": [],
   "source": [
    "def test_data_predictor_multiple(players, model, feature_interactions=False):\n",
    "    \"\"\"\n",
    "    \n",
    "    \"\"\"\n",
    "\n",
    "    players = players.reset_index()\n",
    "    players['kicker'] = players['player'].apply(lambda x: 1 if x in kickers else 0)\n",
    "    players = players.set_index('player')\n",
    "    \n",
    "    players['v_italy'] = players.apply(lambda x: v_italy_generator(x['week'], x['country']), axis=1)\n",
    "\n",
    "    players_interim = players.drop('week', axis=1).copy()\n",
    "    players_interim = pd.get_dummies(players_interim, columns=['country', 'position'], prefix=\"\", prefix_sep=\"\")\n",
    "\n",
    "    if feature_interactions == False:\n",
    "        \n",
    "        if model == 'lin_reg':\n",
    "            players['mins'] = model_lin_reg_mins.best_estimator_.predict(players_interim).round()\n",
    "            players['tackles'] = model_lin_reg_tackles.best_estimator_.predict(players_interim).round(2)\n",
    "            players['d_tackles'] = model_lin_reg_d_tackles.best_estimator_.predict(players_interim).round(2)\n",
    "            players['t_breaks'] = model_lin_reg_t_breaks.best_estimator_.predict(players_interim).round(2)\n",
    "            players['m_ball'] = model_lin_reg_m_ball.best_estimator_.predict(players_interim).round(2)\n",
    "            players['tries'] = model_lin_reg_tries.best_estimator_.predict(players_interim).round(2)\n",
    "            players['conversions'] = model_lin_reg_conversions.best_estimator_.predict(players_interim).round(2)\n",
    "            players['penalties'] = model_lin_reg_penalties.best_estimator_.predict(players_interim).round(2)\n",
    "\n",
    "        elif model == 'ridge':\n",
    "            players['mins'] = model_ridge_mins.best_estimator_.predict(players_interim).round()\n",
    "            players['tackles'] = model_ridge_tackles.best_estimator_.predict(players_interim).round(2)\n",
    "            players['d_tackles'] = model_ridge_d_tackles.best_estimator_.predict(players_interim).round(2)\n",
    "            players['t_breaks'] = model_ridge_t_breaks.best_estimator_.predict(players_interim).round(2)\n",
    "            players['m_ball'] = model_ridge_m_ball.best_estimator_.predict(players_interim).round(2)\n",
    "            players['tries'] = model_ridge_tries.best_estimator_.predict(players_interim).round(2)\n",
    "            players['conversions'] = model_ridge_conversions.best_estimator_.predict(players_interim).round(2)\n",
    "            players['penalties'] = model_ridge_penalties.best_estimator_.predict(players_interim).round(2)\n",
    "\n",
    "        elif model == 'lasso':\n",
    "            players['mins'] = model_lasso_mins.best_estimator_.predict(players_interim).round()\n",
    "            players['tackles'] = model_lasso_tackles.best_estimator_.predict(players_interim).round(2)\n",
    "            players['d_tackles'] = model_lasso_d_tackles.best_estimator_.predict(players_interim).round(2)\n",
    "            players['t_breaks'] = model_lasso_t_breaks.best_estimator_.predict(players_interim).round(2)\n",
    "            players['m_ball'] = model_lasso_m_ball.best_estimator_.predict(players_interim).round(2)\n",
    "            players['tries'] = model_lasso_tries.best_estimator_.predict(players_interim).round(2)\n",
    "            players['conversions'] = model_lasso_conversions.best_estimator_.predict(players_interim).round(2)\n",
    "            players['penalties'] = model_lasso_penalties.best_estimator_.predict(players_interim).round(2)\n",
    "    \n",
    "    if feature_interactions == True:\n",
    "        players_interim['cost_started'] = players_interim['cost'] * players_interim['started'] \n",
    "        players_interim['cost_England'] = players_interim['cost'] * players_interim['England'] \n",
    "        players_interim['cost_France'] = players_interim['cost'] * players_interim['France'] \n",
    "        players_interim['cost_Ireland'] = players_interim['cost'] * players_interim['Ireland'] \n",
    "        players_interim['cost_Italy'] = players_interim['cost'] * players_interim['Italy'] \n",
    "        players_interim['cost_Scotland'] = players_interim['cost'] * players_interim['Scotland'] \n",
    "        players_interim['cost_Wales'] = players_interim['cost'] * players_interim['Wales'] \n",
    "        players_interim['cost_Back Row'] = players_interim['cost'] * players_interim['Back Row'] \n",
    "        players_interim['cost_Centre'] = players_interim['cost'] * players_interim['Centre'] \n",
    "        players_interim['cost_Fly Half'] = players_interim['cost'] * players_interim['Fly Half'] \n",
    "        players_interim['cost_Full Back'] = players_interim['cost'] * players_interim['Full Back'] \n",
    "        players_interim['cost_Hooker'] = players_interim['cost'] * players_interim['Hooker'] \n",
    "        players_interim['cost_Prop'] = players_interim['cost'] * players_interim['Prop'] \n",
    "        players_interim['cost_Scrum Half'] = players_interim['cost'] * players_interim['Scrum Half'] \n",
    "        players_interim['cost_Second Row'] = players_interim['cost'] * players_interim['Second Row'] \n",
    "        players_interim['cost_Wing'] = players_interim['cost'] * players_interim['Wing'] \n",
    "        players_interim['cost_v_italy'] = players_interim['cost'] * players_interim['v_italy'] \n",
    "        players_interim['cost_kicker'] = players_interim['cost'] * players_interim['kicker']\n",
    "    \n",
    "        if model == 'lin_reg':\n",
    "            players['mins'] = model_lin_reg_interactions_mins.best_estimator_.predict(players_interim).round()\n",
    "            players['tackles'] = model_lin_reg_interactions_tackles.best_estimator_.predict(players_interim).round(2)\n",
    "            players['d_tackles'] = model_lin_reg_interactions_d_tackles.best_estimator_.predict(players_interim).round(2)\n",
    "            players['t_breaks'] = model_lin_reg_interactions_t_breaks.best_estimator_.predict(players_interim).round(2)\n",
    "            players['m_ball'] = model_lin_reg_interactions_m_ball.best_estimator_.predict(players_interim).round(2)\n",
    "            players['tries'] = model_lin_reg_interactions_tries.best_estimator_.predict(players_interim).round(2)\n",
    "            players['conversions'] = model_lin_reg_interactions_conversions.best_estimator_.predict(players_interim).round(2)\n",
    "            players['penalties'] = model_lin_reg_interactions_penalties.best_estimator_.predict(players_interim).round(2)\n",
    "\n",
    "        elif model == 'ridge':\n",
    "            players['mins'] = model_ridge_interactions_mins.best_estimator_.predict(players_interim).round()\n",
    "            players['tackles'] = model_ridge_interactions_tackles.best_estimator_.predict(players_interim).round(2)\n",
    "            players['d_tackles'] = model_ridge_interactions_d_tackles.best_estimator_.predict(players_interim).round(2)\n",
    "            players['t_breaks'] = model_ridge_interactions_t_breaks.best_estimator_.predict(players_interim).round(2)\n",
    "            players['m_ball'] = model_ridge_interactions_m_ball.best_estimator_.predict(players_interim).round(2)\n",
    "            players['tries'] = model_ridge_interactions_tries.best_estimator_.predict(players_interim).round(2)\n",
    "            players['conversions'] = model_ridge_interactions_conversions.best_estimator_.predict(players_interim).round(2)\n",
    "            players['penalties'] = model_ridge_interactions_penalties.best_estimator_.predict(players_interim).round(2)\n",
    "\n",
    "        elif model == 'lasso':\n",
    "            players['mins'] = model_lasso_interactions_mins.best_estimator_.predict(players_interim).round()\n",
    "            players['tackles'] = model_lasso_interactions_tackles.best_estimator_.predict(players_interim).round(2)\n",
    "            players['d_tackles'] = model_lasso_interactions_d_tackles.best_estimator_.predict(players_interim).round(2)\n",
    "            players['t_breaks'] = model_lasso_interactions_t_breaks.best_estimator_.predict(players_interim).round(2)\n",
    "            players['m_ball'] = model_lasso_interactions_m_ball.best_estimator_.predict(players_interim).round(2)\n",
    "            players['tries'] = model_lasso_interactions_tries.best_estimator_.predict(players_interim).round(2)\n",
    "            players['conversions'] = model_lasso_interactions_conversions.best_estimator_.predict(players_interim).round(2)\n",
    "            players['penalties'] = model_lasso_interactions_penalties.best_estimator_.predict(players_interim).round(2)\n",
    "    \n",
    "    \n",
    "    players['d_goals'] = 0\n",
    "    players['mom'] = 0\n",
    "    players['yellow'] = 0\n",
    "    players['red'] = 0\n",
    "    \n",
    "    players['team_score'] = players.apply(lambda x: team_points_calculator(x['country'], x['mins'], x['week']), axis=1)\n",
    "    players = players.drop('week', axis=1)\n",
    "    \n",
    "    players['ind_score'] = players.apply(lambda x: ind_points_calculator(\n",
    "        x['tackles'], x['d_tackles'], x['t_breaks'], x['m_ball'], x['mom'],\n",
    "        x['tries'], x['conversions'], x['penalties'], x['d_goals'], x['yellow'], x['red']\n",
    "    ), axis=1)\n",
    "\n",
    "    players['overall_score'] = (players['team_score'] + players['ind_score']).round(2)\n",
    "    \n",
    "    return players"
   ]
  },
  {
   "cell_type": "markdown",
   "id": "spatial-newfoundland",
   "metadata": {},
   "source": [
    "# Prediction Modelling"
   ]
  },
  {
   "cell_type": "markdown",
   "id": "present-julian",
   "metadata": {},
   "source": [
    "## Linear Regression Models"
   ]
  },
  {
   "cell_type": "code",
   "execution_count": 17,
   "id": "distinct-shopping",
   "metadata": {},
   "outputs": [],
   "source": [
    "def lin_reg_model_fitter(target, feature_interactions=[]):\n",
    "    \"\"\"\n",
    "\n",
    "    \"\"\"\n",
    "    \n",
    "    X = players_training_processed[features + feature_interactions]\n",
    "    y = players_training_processed[target]\n",
    "    \n",
    "    model = GridSearchCV(\n",
    "        estimator = Pipeline([\n",
    "            ('scaler', StandardScaler()),\n",
    "            ('lin_reg', LinearRegression())\n",
    "        ]),\n",
    "        param_grid = {},\n",
    "        cv = KFold(n_splits=10, shuffle=True, random_state=101),\n",
    "        scoring = 'neg_root_mean_squared_error'\n",
    "    ).fit(X,y)\n",
    "    \n",
    "    return model"
   ]
  },
  {
   "cell_type": "markdown",
   "id": "colonial-memory",
   "metadata": {},
   "source": [
    "### Single Models"
   ]
  },
  {
   "cell_type": "markdown",
   "id": "married-validation",
   "metadata": {},
   "source": [
    "#### No Interactions"
   ]
  },
  {
   "cell_type": "code",
   "execution_count": 18,
   "id": "happy-looking",
   "metadata": {
    "scrolled": false
   },
   "outputs": [
    {
     "name": "stdout",
     "output_type": "stream",
     "text": [
      "RMSE: 14.66\n"
     ]
    }
   ],
   "source": [
    "# fit the model to the training data\n",
    "model_lin_reg_no_interactions = lin_reg_model_fitter('overall_score')\n",
    "\n",
    "print(\"RMSE: {}\".format(-model_lin_reg_no_interactions.best_score_.round(2)))"
   ]
  },
  {
   "cell_type": "code",
   "execution_count": 19,
   "id": "according-senior",
   "metadata": {},
   "outputs": [
    {
     "data": {
      "text/plain": [
       "18.269370244494876"
      ]
     },
     "execution_count": 19,
     "metadata": {},
     "output_type": "execute_result"
    }
   ],
   "source": [
    "y_pred_single_lin_reg_no_interactions = test_data_predictor_single(players_test, model_lin_reg_no_interactions.best_estimator_, False)['overall_score']\n",
    "mean_squared_error(y_test, y_pred_single_lin_reg_no_interactions)**0.5"
   ]
  },
  {
   "cell_type": "markdown",
   "id": "alert-marsh",
   "metadata": {},
   "source": [
    "#### Interactions"
   ]
  },
  {
   "cell_type": "code",
   "execution_count": 20,
   "id": "alert-birmingham",
   "metadata": {},
   "outputs": [
    {
     "name": "stdout",
     "output_type": "stream",
     "text": [
      "RMSE: 22.46\n"
     ]
    }
   ],
   "source": [
    "# fit the model to the training data\n",
    "model_lin_reg_interactions = lin_reg_model_fitter('overall_score', feature_interactions)\n",
    "\n",
    "print(\"RMSE: {}\".format(-model_lin_reg_interactions.best_score_.round(2)))"
   ]
  },
  {
   "cell_type": "code",
   "execution_count": 21,
   "id": "amateur-austin",
   "metadata": {},
   "outputs": [
    {
     "data": {
      "text/plain": [
       "634405033268517.6"
      ]
     },
     "execution_count": 21,
     "metadata": {},
     "output_type": "execute_result"
    }
   ],
   "source": [
    "y_pred_single_linear_reg_interactions = test_data_predictor_single(players_test, model_lin_reg_interactions.best_estimator_, True)['overall_score']\n",
    "\n",
    "mean_squared_error(y_test, y_pred_single_linear_reg_interactions)**0.5"
   ]
  },
  {
   "cell_type": "markdown",
   "id": "offensive-aruba",
   "metadata": {},
   "source": [
    "### Multiple Models"
   ]
  },
  {
   "cell_type": "markdown",
   "id": "sophisticated-aluminum",
   "metadata": {},
   "source": [
    "#### No Interactions"
   ]
  },
  {
   "cell_type": "code",
   "execution_count": 22,
   "id": "representative-sentence",
   "metadata": {},
   "outputs": [],
   "source": [
    "# fit models for each of the individual target variables\n",
    "model_lin_reg_mins = lin_reg_model_fitter('mins')\n",
    "model_lin_reg_tackles = lin_reg_model_fitter('tackles')\n",
    "model_lin_reg_d_tackles = lin_reg_model_fitter('d_tackles')\n",
    "model_lin_reg_t_breaks = lin_reg_model_fitter('t_breaks')\n",
    "model_lin_reg_m_ball = lin_reg_model_fitter('m_ball')\n",
    "model_lin_reg_tries = lin_reg_model_fitter('tries')\n",
    "model_lin_reg_conversions = lin_reg_model_fitter('conversions')\n",
    "model_lin_reg_penalties = lin_reg_model_fitter('penalties')"
   ]
  },
  {
   "cell_type": "code",
   "execution_count": 23,
   "id": "nasty-lindsay",
   "metadata": {},
   "outputs": [
    {
     "data": {
      "text/plain": [
       "16.886098926528938"
      ]
     },
     "execution_count": 23,
     "metadata": {},
     "output_type": "execute_result"
    }
   ],
   "source": [
    "y_pred_multiple_linear_reg_no_interactions = test_data_predictor_multiple(players_test, 'lin_reg')['overall_score']\n",
    "\n",
    "mean_squared_error(y_test, y_pred_multiple_linear_reg_no_interactions)**0.5"
   ]
  },
  {
   "cell_type": "markdown",
   "id": "forty-graph",
   "metadata": {},
   "source": [
    "#### Interactions"
   ]
  },
  {
   "cell_type": "code",
   "execution_count": 24,
   "id": "fatty-residence",
   "metadata": {},
   "outputs": [],
   "source": [
    "# fit models for each of the individual target variables\n",
    "model_lin_reg_interactions_mins = lin_reg_model_fitter('mins', feature_interactions)\n",
    "model_lin_reg_interactions_tackles = lin_reg_model_fitter('tackles', feature_interactions)\n",
    "model_lin_reg_interactions_d_tackles = lin_reg_model_fitter('d_tackles', feature_interactions)\n",
    "model_lin_reg_interactions_t_breaks = lin_reg_model_fitter('t_breaks', feature_interactions)\n",
    "model_lin_reg_interactions_m_ball = lin_reg_model_fitter('m_ball', feature_interactions)\n",
    "model_lin_reg_interactions_tries = lin_reg_model_fitter('tries', feature_interactions)\n",
    "model_lin_reg_interactions_conversions = lin_reg_model_fitter('conversions', feature_interactions)\n",
    "model_lin_reg_interactions_penalties = lin_reg_model_fitter('penalties', feature_interactions)"
   ]
  },
  {
   "cell_type": "code",
   "execution_count": 25,
   "id": "divided-spirituality",
   "metadata": {},
   "outputs": [
    {
     "data": {
      "text/plain": [
       "525486361452490.9"
      ]
     },
     "execution_count": 25,
     "metadata": {},
     "output_type": "execute_result"
    }
   ],
   "source": [
    "y_pred_multiple_linear_reg_interactions = test_data_predictor_multiple(players_test, 'lin_reg', True)['overall_score']\n",
    "\n",
    "mean_squared_error(y_test, y_pred_multiple_linear_reg_interactions)**0.5"
   ]
  },
  {
   "cell_type": "markdown",
   "id": "suspended-camcorder",
   "metadata": {},
   "source": [
    "## Ridge Regression Models"
   ]
  },
  {
   "cell_type": "code",
   "execution_count": 26,
   "id": "blank-planet",
   "metadata": {},
   "outputs": [],
   "source": [
    "def ridge_reg_model_fitter(target, feature_interactions=[]):\n",
    "    \"\"\"\n",
    "\n",
    "    \"\"\"\n",
    "    \n",
    "    X = players_training_processed[features + feature_interactions]\n",
    "    y = players_training_processed[target]\n",
    "    \n",
    "    model = GridSearchCV(\n",
    "        estimator = Pipeline([\n",
    "            ('scaler', StandardScaler()),\n",
    "            ('ridge', Ridge())\n",
    "        ]),\n",
    "        param_grid = {'ridge__alpha': np.logspace(-2, 3, num=100)}, # 0.01 to 1000\n",
    "        cv = KFold(n_splits=10, shuffle=True, random_state=101),\n",
    "        scoring = 'neg_root_mean_squared_error'\n",
    "    ).fit(X,y)\n",
    "    \n",
    "    return model"
   ]
  },
  {
   "cell_type": "markdown",
   "id": "helpful-catch",
   "metadata": {},
   "source": [
    "### Single Models"
   ]
  },
  {
   "cell_type": "markdown",
   "id": "dedicated-horizontal",
   "metadata": {},
   "source": [
    "#### No Interactions"
   ]
  },
  {
   "cell_type": "code",
   "execution_count": 27,
   "id": "solar-france",
   "metadata": {},
   "outputs": [
    {
     "name": "stdout",
     "output_type": "stream",
     "text": [
      "RMSE: 14.21\n",
      "alpha: 27.19\n"
     ]
    }
   ],
   "source": [
    "# fit the model to the training data\n",
    "model_ridge_reg_no_interactions = ridge_reg_model_fitter('overall_score')\n",
    "\n",
    "print(\"RMSE: {}\".format(-model_ridge_reg_no_interactions.best_score_.round(2)))\n",
    "print(\"alpha: {}\".format(model_ridge_reg_no_interactions.best_params_['ridge__alpha'].round(2)))"
   ]
  },
  {
   "cell_type": "code",
   "execution_count": 28,
   "id": "included-drinking",
   "metadata": {},
   "outputs": [
    {
     "data": {
      "text/plain": [
       "18.070444140896907"
      ]
     },
     "execution_count": 28,
     "metadata": {},
     "output_type": "execute_result"
    }
   ],
   "source": [
    "y_pred_single_ridge_reg_no_interactions = test_data_predictor_single(players_test, model_ridge_reg_no_interactions.best_estimator_, False)['overall_score']\n",
    "\n",
    "mean_squared_error(y_test, y_pred_single_ridge_reg_no_interactions)**0.5"
   ]
  },
  {
   "cell_type": "markdown",
   "id": "unlimited-trout",
   "metadata": {},
   "source": [
    "#### Interactions"
   ]
  },
  {
   "cell_type": "code",
   "execution_count": 29,
   "id": "perfect-marking",
   "metadata": {},
   "outputs": [
    {
     "name": "stdout",
     "output_type": "stream",
     "text": [
      "RMSE: 13.41\n",
      "alpha: 5.34\n"
     ]
    }
   ],
   "source": [
    "# fit the model to the training data\n",
    "model_ridge_reg_interactions = ridge_reg_model_fitter('overall_score', feature_interactions)\n",
    "\n",
    "print(\"RMSE: {}\".format(-model_ridge_reg_interactions.best_score_.round(2)))\n",
    "print(\"alpha: {}\".format(model_ridge_reg_interactions.best_params_['ridge__alpha'].round(2)))"
   ]
  },
  {
   "cell_type": "code",
   "execution_count": 30,
   "id": "english-error",
   "metadata": {},
   "outputs": [
    {
     "data": {
      "text/plain": [
       "16.738777096778968"
      ]
     },
     "execution_count": 30,
     "metadata": {},
     "output_type": "execute_result"
    }
   ],
   "source": [
    "y_pred_single_ridge_reg_interactions = test_data_predictor_single(players_test, model_ridge_reg_interactions.best_estimator_, True)['overall_score']\n",
    "\n",
    "mean_squared_error(y_test, y_pred_single_ridge_reg_interactions)**0.5"
   ]
  },
  {
   "cell_type": "markdown",
   "id": "permanent-service",
   "metadata": {},
   "source": [
    "### Multiple Models"
   ]
  },
  {
   "cell_type": "markdown",
   "id": "quiet-circle",
   "metadata": {},
   "source": [
    "#### No Interactions"
   ]
  },
  {
   "cell_type": "code",
   "execution_count": 31,
   "id": "suffering-trouble",
   "metadata": {},
   "outputs": [
    {
     "name": "stdout",
     "output_type": "stream",
     "text": [
      "RMSE: 14.76\n",
      "alpha: 6.73\n"
     ]
    }
   ],
   "source": [
    "model_ridge_mins = ridge_reg_model_fitter('mins')\n",
    "\n",
    "print(\"RMSE: {}\".format(-model_ridge_mins.best_score_.round(2)))\n",
    "print(\"alpha: {}\".format(model_ridge_mins.best_params_['ridge__alpha'].round(2)))"
   ]
  },
  {
   "cell_type": "code",
   "execution_count": 32,
   "id": "creative-dryer",
   "metadata": {},
   "outputs": [
    {
     "name": "stdout",
     "output_type": "stream",
     "text": [
      "RMSE: 3.61\n",
      "alpha: 27.19\n"
     ]
    }
   ],
   "source": [
    "model_ridge_tackles = ridge_reg_model_fitter('tackles')\n",
    "\n",
    "print(\"RMSE: {}\".format(-model_ridge_tackles.best_score_.round(2)))\n",
    "print(\"alpha: {}\".format(model_ridge_tackles.best_params_['ridge__alpha'].round(2)))"
   ]
  },
  {
   "cell_type": "code",
   "execution_count": 33,
   "id": "superb-tissue",
   "metadata": {},
   "outputs": [
    {
     "name": "stdout",
     "output_type": "stream",
     "text": [
      "RMSE: 0.45\n",
      "alpha: 559.08\n"
     ]
    }
   ],
   "source": [
    "model_ridge_d_tackles = ridge_reg_model_fitter('d_tackles')\n",
    "\n",
    "print(\"RMSE: {}\".format(-model_ridge_d_tackles.best_score_.round(2)))\n",
    "print(\"alpha: {}\".format(model_ridge_d_tackles.best_params_['ridge__alpha'].round(2)))"
   ]
  },
  {
   "cell_type": "code",
   "execution_count": 34,
   "id": "greenhouse-consultancy",
   "metadata": {},
   "outputs": [
    {
     "name": "stdout",
     "output_type": "stream",
     "text": [
      "RMSE: 1.27\n",
      "alpha: 43.29\n"
     ]
    }
   ],
   "source": [
    "model_ridge_t_breaks = ridge_reg_model_fitter('t_breaks')\n",
    "\n",
    "print(\"RMSE: {}\".format(-model_ridge_t_breaks.best_score_.round(2)))\n",
    "print(\"alpha: {}\".format(model_ridge_t_breaks.best_params_['ridge__alpha'].round(2)))"
   ]
  },
  {
   "cell_type": "code",
   "execution_count": 35,
   "id": "enclosed-convenience",
   "metadata": {},
   "outputs": [
    {
     "name": "stdout",
     "output_type": "stream",
     "text": [
      "RMSE: 24.69\n",
      "alpha: 27.19\n"
     ]
    }
   ],
   "source": [
    "model_ridge_m_ball = ridge_reg_model_fitter('m_ball')\n",
    "\n",
    "print(\"RMSE: {}\".format(-model_ridge_m_ball.best_score_.round(2)))\n",
    "print(\"alpha: {}\".format(model_ridge_m_ball.best_params_['ridge__alpha'].round(2)))"
   ]
  },
  {
   "cell_type": "code",
   "execution_count": 36,
   "id": "potential-restriction",
   "metadata": {},
   "outputs": [
    {
     "name": "stdout",
     "output_type": "stream",
     "text": [
      "RMSE: 0.25\n",
      "alpha: 351.12\n"
     ]
    }
   ],
   "source": [
    "model_ridge_tries = ridge_reg_model_fitter('tries')\n",
    "\n",
    "print(\"RMSE: {}\".format(-model_ridge_tries.best_score_.round(2)))\n",
    "print(\"alpha: {}\".format(model_ridge_tries.best_params_['ridge__alpha'].round(2)))"
   ]
  },
  {
   "cell_type": "code",
   "execution_count": 37,
   "id": "peaceful-equality",
   "metadata": {},
   "outputs": [
    {
     "name": "stdout",
     "output_type": "stream",
     "text": [
      "RMSE: 0.27\n",
      "alpha: 1000.0\n"
     ]
    }
   ],
   "source": [
    "model_ridge_conversions = ridge_reg_model_fitter('conversions')\n",
    "\n",
    "print(\"RMSE: {}\".format(-model_ridge_conversions.best_score_.round(2)))\n",
    "print(\"alpha: {}\".format(model_ridge_conversions.best_params_['ridge__alpha'].round(2)))"
   ]
  },
  {
   "cell_type": "code",
   "execution_count": 38,
   "id": "sacred-antibody",
   "metadata": {},
   "outputs": [
    {
     "name": "stdout",
     "output_type": "stream",
     "text": [
      "RMSE: 0.26\n",
      "alpha: 21.54\n"
     ]
    }
   ],
   "source": [
    "model_ridge_penalties = ridge_reg_model_fitter('penalties')\n",
    "\n",
    "print(\"RMSE: {}\".format(-model_ridge_penalties.best_score_.round(2)))\n",
    "print(\"alpha: {}\".format(model_ridge_penalties.best_params_['ridge__alpha'].round(2)))"
   ]
  },
  {
   "cell_type": "code",
   "execution_count": 39,
   "id": "registered-palace",
   "metadata": {},
   "outputs": [
    {
     "data": {
      "text/plain": [
       "15.753346320380794"
      ]
     },
     "execution_count": 39,
     "metadata": {},
     "output_type": "execute_result"
    }
   ],
   "source": [
    "y_pred_multiple_ridge_reg_no_interactions = test_data_predictor_multiple(players_test, 'ridge', False)['overall_score']\n",
    "\n",
    "mean_squared_error(y_test, y_pred_multiple_ridge_reg_no_interactions)**0.5"
   ]
  },
  {
   "cell_type": "markdown",
   "id": "protected-framing",
   "metadata": {},
   "source": [
    "#### Interactions"
   ]
  },
  {
   "cell_type": "code",
   "execution_count": 40,
   "id": "portuguese-teach",
   "metadata": {},
   "outputs": [
    {
     "name": "stdout",
     "output_type": "stream",
     "text": [
      "RMSE: 14.71\n",
      "alpha: 13.53\n"
     ]
    }
   ],
   "source": [
    "model_ridge_interactions_mins = ridge_reg_model_fitter('mins', feature_interactions)\n",
    "\n",
    "print(\"RMSE: {}\".format(-model_ridge_interactions_mins.best_score_.round(2)))\n",
    "print(\"alpha: {}\".format(model_ridge_interactions_mins.best_params_['ridge__alpha'].round(2)))"
   ]
  },
  {
   "cell_type": "code",
   "execution_count": 41,
   "id": "cloudy-eating",
   "metadata": {},
   "outputs": [
    {
     "name": "stdout",
     "output_type": "stream",
     "text": [
      "RMSE: 3.51\n",
      "alpha: 43.29\n"
     ]
    }
   ],
   "source": [
    "model_ridge_interactions_tackles = ridge_reg_model_fitter('tackles', feature_interactions)\n",
    "\n",
    "print(\"RMSE: {}\".format(-model_ridge_interactions_tackles.best_score_.round(2)))\n",
    "print(\"alpha: {}\".format(model_ridge_interactions_tackles.best_params_['ridge__alpha'].round(2)))"
   ]
  },
  {
   "cell_type": "code",
   "execution_count": 42,
   "id": "vanilla-ecuador",
   "metadata": {},
   "outputs": [
    {
     "name": "stdout",
     "output_type": "stream",
     "text": [
      "RMSE: 0.45\n",
      "alpha: 1000.0\n"
     ]
    }
   ],
   "source": [
    "model_ridge_interactions_d_tackles = ridge_reg_model_fitter('d_tackles', feature_interactions)\n",
    "\n",
    "print(\"RMSE: {}\".format(-model_ridge_interactions_d_tackles.best_score_.round(2)))\n",
    "print(\"alpha: {}\".format(model_ridge_interactions_d_tackles.best_params_['ridge__alpha'].round(2)))"
   ]
  },
  {
   "cell_type": "code",
   "execution_count": 43,
   "id": "several-colors",
   "metadata": {},
   "outputs": [
    {
     "name": "stdout",
     "output_type": "stream",
     "text": [
      "RMSE: 1.25\n",
      "alpha: 43.29\n"
     ]
    }
   ],
   "source": [
    "model_ridge_interactions_t_breaks = ridge_reg_model_fitter('t_breaks', feature_interactions)\n",
    "\n",
    "print(\"RMSE: {}\".format(-model_ridge_interactions_t_breaks.best_score_.round(2)))\n",
    "print(\"alpha: {}\".format(model_ridge_interactions_t_breaks.best_params_['ridge__alpha'].round(2)))"
   ]
  },
  {
   "cell_type": "code",
   "execution_count": 44,
   "id": "agreed-ballet",
   "metadata": {},
   "outputs": [
    {
     "name": "stdout",
     "output_type": "stream",
     "text": [
      "RMSE: 24.32\n",
      "alpha: 43.29\n"
     ]
    }
   ],
   "source": [
    "model_ridge_interactions_m_ball = ridge_reg_model_fitter('m_ball', feature_interactions)\n",
    "\n",
    "print(\"RMSE: {}\".format(-model_ridge_interactions_m_ball.best_score_.round(2)))\n",
    "print(\"alpha: {}\".format(model_ridge_interactions_m_ball.best_params_['ridge__alpha'].round(2)))"
   ]
  },
  {
   "cell_type": "code",
   "execution_count": 45,
   "id": "devoted-variation",
   "metadata": {},
   "outputs": [
    {
     "name": "stdout",
     "output_type": "stream",
     "text": [
      "RMSE: 0.25\n",
      "alpha: 559.08\n"
     ]
    }
   ],
   "source": [
    "model_ridge_interactions_tries = ridge_reg_model_fitter('tries', feature_interactions)\n",
    "\n",
    "print(\"RMSE: {}\".format(-model_ridge_interactions_tries.best_score_.round(2)))\n",
    "print(\"alpha: {}\".format(model_ridge_interactions_tries.best_params_['ridge__alpha'].round(2)))"
   ]
  },
  {
   "cell_type": "code",
   "execution_count": 46,
   "id": "ahead-particular",
   "metadata": {},
   "outputs": [
    {
     "name": "stdout",
     "output_type": "stream",
     "text": [
      "RMSE: 0.27\n",
      "alpha: 1000.0\n"
     ]
    }
   ],
   "source": [
    "model_ridge_interactions_conversions = ridge_reg_model_fitter('conversions', feature_interactions)\n",
    "\n",
    "print(\"RMSE: {}\".format(-model_ridge_interactions_conversions.best_score_.round(2)))\n",
    "print(\"alpha: {}\".format(model_ridge_interactions_conversions.best_params_['ridge__alpha'].round(2)))"
   ]
  },
  {
   "cell_type": "code",
   "execution_count": 47,
   "id": "documentary-frame",
   "metadata": {},
   "outputs": [
    {
     "name": "stdout",
     "output_type": "stream",
     "text": [
      "RMSE: 0.24\n",
      "alpha: 17.07\n"
     ]
    }
   ],
   "source": [
    "model_ridge_interactions_penalties = ridge_reg_model_fitter('penalties', feature_interactions)\n",
    "\n",
    "print(\"RMSE: {}\".format(-model_ridge_interactions_penalties.best_score_.round(2)))\n",
    "print(\"alpha: {}\".format(model_ridge_interactions_penalties.best_params_['ridge__alpha'].round(2)))"
   ]
  },
  {
   "cell_type": "code",
   "execution_count": 48,
   "id": "radical-likelihood",
   "metadata": {},
   "outputs": [
    {
     "data": {
      "text/plain": [
       "14.057310105112727"
      ]
     },
     "execution_count": 48,
     "metadata": {},
     "output_type": "execute_result"
    }
   ],
   "source": [
    "y_pred_multiple_ridge_reg_interactions = test_data_predictor_multiple(players_test, 'ridge', True)['overall_score']\n",
    "\n",
    "mean_squared_error(y_test, y_pred_multiple_ridge_reg_interactions)**0.5"
   ]
  },
  {
   "cell_type": "markdown",
   "id": "cleared-executive",
   "metadata": {},
   "source": [
    "## Lasso Models"
   ]
  },
  {
   "cell_type": "code",
   "execution_count": 49,
   "id": "decimal-elite",
   "metadata": {},
   "outputs": [],
   "source": [
    "def lasso_model_fitter(target, feature_interactions=[]):\n",
    "    \"\"\"\n",
    "\n",
    "    \"\"\"\n",
    "    \n",
    "    X = players_training_processed[features + feature_interactions]\n",
    "    y = players_training_processed[target]\n",
    "    \n",
    "    model = GridSearchCV(\n",
    "        estimator = Pipeline([\n",
    "            ('scaler', StandardScaler()),\n",
    "            ('lasso', Lasso())\n",
    "        ]),\n",
    "        param_grid = {'lasso__alpha': np.linspace(start=0.01, stop=1, num=100)},\n",
    "        cv = KFold(n_splits=10, shuffle=True, random_state=101),\n",
    "        scoring = 'neg_root_mean_squared_error'\n",
    "    ).fit(X,y)\n",
    "    \n",
    "    return model"
   ]
  },
  {
   "cell_type": "markdown",
   "id": "racial-remainder",
   "metadata": {},
   "source": [
    "### Single Models"
   ]
  },
  {
   "cell_type": "markdown",
   "id": "certain-genesis",
   "metadata": {},
   "source": [
    "#### No Interactions"
   ]
  },
  {
   "cell_type": "code",
   "execution_count": 50,
   "id": "twenty-stockholm",
   "metadata": {
    "scrolled": false
   },
   "outputs": [
    {
     "name": "stderr",
     "output_type": "stream",
     "text": [
      "/Users/samg/anaconda3/lib/python3.7/site-packages/sklearn/linear_model/_coordinate_descent.py:531: ConvergenceWarning: Objective did not converge. You might want to increase the number of iterations. Duality gap: 11.741955827597849, tolerance: 7.1873901270967755\n",
      "  positive)\n",
      "/Users/samg/anaconda3/lib/python3.7/site-packages/sklearn/linear_model/_coordinate_descent.py:531: ConvergenceWarning: Objective did not converge. You might want to increase the number of iterations. Duality gap: 15.17171363867601, tolerance: 6.741360618080001\n",
      "  positive)\n",
      "/Users/samg/anaconda3/lib/python3.7/site-packages/sklearn/linear_model/_coordinate_descent.py:531: ConvergenceWarning: Objective did not converge. You might want to increase the number of iterations. Duality gap: 8.819104947811866, tolerance: 7.426089763548387\n",
      "  positive)\n"
     ]
    },
    {
     "name": "stdout",
     "output_type": "stream",
     "text": [
      "RMSE: 14.36\n",
      "alpha: 0.43\n"
     ]
    }
   ],
   "source": [
    "model_lasso_no_interactions = lasso_model_fitter('overall_score')\n",
    "\n",
    "print(\"RMSE: {}\".format(-model_lasso_no_interactions.best_score_.round(2)))\n",
    "print(\"alpha: {}\".format(model_lasso_no_interactions.best_params_['lasso__alpha'].round(2)))"
   ]
  },
  {
   "cell_type": "code",
   "execution_count": 51,
   "id": "approximate-structure",
   "metadata": {},
   "outputs": [
    {
     "data": {
      "text/plain": [
       "16.620225957235515"
      ]
     },
     "execution_count": 51,
     "metadata": {},
     "output_type": "execute_result"
    }
   ],
   "source": [
    "y_pred_single_lasso_no_interactions = test_data_predictor_single(players_test, model_lasso_no_interactions.best_estimator_, False)['overall_score']\n",
    "\n",
    "mean_squared_error(y_test, y_pred_single_lasso_no_interactions)**0.5"
   ]
  },
  {
   "cell_type": "markdown",
   "id": "burning-array",
   "metadata": {},
   "source": [
    "#### Interactions"
   ]
  },
  {
   "cell_type": "code",
   "execution_count": 52,
   "id": "competent-product",
   "metadata": {
    "scrolled": false
   },
   "outputs": [
    {
     "name": "stderr",
     "output_type": "stream",
     "text": [
      "/Users/samg/anaconda3/lib/python3.7/site-packages/sklearn/linear_model/_coordinate_descent.py:531: ConvergenceWarning: Objective did not converge. You might want to increase the number of iterations. Duality gap: 24.541235129154302, tolerance: 5.69127988733871\n",
      "  positive)\n",
      "/Users/samg/anaconda3/lib/python3.7/site-packages/sklearn/linear_model/_coordinate_descent.py:531: ConvergenceWarning: Objective did not converge. You might want to increase the number of iterations. Duality gap: 20.121470252544896, tolerance: 7.399337334193548\n",
      "  positive)\n",
      "/Users/samg/anaconda3/lib/python3.7/site-packages/sklearn/linear_model/_coordinate_descent.py:531: ConvergenceWarning: Objective did not converge. You might want to increase the number of iterations. Duality gap: 16.83420836848927, tolerance: 7.158766504193549\n",
      "  positive)\n",
      "/Users/samg/anaconda3/lib/python3.7/site-packages/sklearn/linear_model/_coordinate_descent.py:531: ConvergenceWarning: Objective did not converge. You might want to increase the number of iterations. Duality gap: 14.574181623162076, tolerance: 7.426089763548387\n",
      "  positive)\n",
      "/Users/samg/anaconda3/lib/python3.7/site-packages/sklearn/linear_model/_coordinate_descent.py:531: ConvergenceWarning: Objective did not converge. You might want to increase the number of iterations. Duality gap: 13.622888628322471, tolerance: 7.135936215483872\n",
      "  positive)\n",
      "/Users/samg/anaconda3/lib/python3.7/site-packages/sklearn/linear_model/_coordinate_descent.py:531: ConvergenceWarning: Objective did not converge. You might want to increase the number of iterations. Duality gap: 40.65446229189911, tolerance: 7.386292127419353\n",
      "  positive)\n",
      "/Users/samg/anaconda3/lib/python3.7/site-packages/sklearn/linear_model/_coordinate_descent.py:531: ConvergenceWarning: Objective did not converge. You might want to increase the number of iterations. Duality gap: 11.016221017926, tolerance: 7.324229549919356\n",
      "  positive)\n",
      "/Users/samg/anaconda3/lib/python3.7/site-packages/sklearn/linear_model/_coordinate_descent.py:531: ConvergenceWarning: Objective did not converge. You might want to increase the number of iterations. Duality gap: 11.677248464126023, tolerance: 6.741360618080001\n",
      "  positive)\n",
      "/Users/samg/anaconda3/lib/python3.7/site-packages/sklearn/linear_model/_coordinate_descent.py:531: ConvergenceWarning: Objective did not converge. You might want to increase the number of iterations. Duality gap: 33.923321671532904, tolerance: 5.69127988733871\n",
      "  positive)\n",
      "/Users/samg/anaconda3/lib/python3.7/site-packages/sklearn/linear_model/_coordinate_descent.py:531: ConvergenceWarning: Objective did not converge. You might want to increase the number of iterations. Duality gap: 11.162065214613904, tolerance: 7.158766504193549\n",
      "  positive)\n",
      "/Users/samg/anaconda3/lib/python3.7/site-packages/sklearn/linear_model/_coordinate_descent.py:531: ConvergenceWarning: Objective did not converge. You might want to increase the number of iterations. Duality gap: 21.261973104716162, tolerance: 7.426089763548387\n",
      "  positive)\n",
      "/Users/samg/anaconda3/lib/python3.7/site-packages/sklearn/linear_model/_coordinate_descent.py:531: ConvergenceWarning: Objective did not converge. You might want to increase the number of iterations. Duality gap: 12.230553677354692, tolerance: 7.386292127419353\n",
      "  positive)\n",
      "/Users/samg/anaconda3/lib/python3.7/site-packages/sklearn/linear_model/_coordinate_descent.py:531: ConvergenceWarning: Objective did not converge. You might want to increase the number of iterations. Duality gap: 7.193727481979295, tolerance: 7.1873901270967755\n",
      "  positive)\n",
      "/Users/samg/anaconda3/lib/python3.7/site-packages/sklearn/linear_model/_coordinate_descent.py:531: ConvergenceWarning: Objective did not converge. You might want to increase the number of iterations. Duality gap: 16.89301977993273, tolerance: 7.324229549919356\n",
      "  positive)\n",
      "/Users/samg/anaconda3/lib/python3.7/site-packages/sklearn/linear_model/_coordinate_descent.py:531: ConvergenceWarning: Objective did not converge. You might want to increase the number of iterations. Duality gap: 17.76771409608955, tolerance: 6.741360618080001\n",
      "  positive)\n",
      "/Users/samg/anaconda3/lib/python3.7/site-packages/sklearn/linear_model/_coordinate_descent.py:531: ConvergenceWarning: Objective did not converge. You might want to increase the number of iterations. Duality gap: 14.803054075906402, tolerance: 5.69127988733871\n",
      "  positive)\n",
      "/Users/samg/anaconda3/lib/python3.7/site-packages/sklearn/linear_model/_coordinate_descent.py:531: ConvergenceWarning: Objective did not converge. You might want to increase the number of iterations. Duality gap: 26.593993900187343, tolerance: 7.426089763548387\n",
      "  positive)\n",
      "/Users/samg/anaconda3/lib/python3.7/site-packages/sklearn/linear_model/_coordinate_descent.py:531: ConvergenceWarning: Objective did not converge. You might want to increase the number of iterations. Duality gap: 15.687974236363516, tolerance: 7.386292127419353\n",
      "  positive)\n",
      "/Users/samg/anaconda3/lib/python3.7/site-packages/sklearn/linear_model/_coordinate_descent.py:531: ConvergenceWarning: Objective did not converge. You might want to increase the number of iterations. Duality gap: 9.132612373321535, tolerance: 7.324229549919356\n",
      "  positive)\n",
      "/Users/samg/anaconda3/lib/python3.7/site-packages/sklearn/linear_model/_coordinate_descent.py:531: ConvergenceWarning: Objective did not converge. You might want to increase the number of iterations. Duality gap: 24.668523073149117, tolerance: 7.426089763548387\n",
      "  positive)\n",
      "/Users/samg/anaconda3/lib/python3.7/site-packages/sklearn/linear_model/_coordinate_descent.py:531: ConvergenceWarning: Objective did not converge. You might want to increase the number of iterations. Duality gap: 27.353336239702912, tolerance: 7.426089763548387\n",
      "  positive)\n"
     ]
    },
    {
     "name": "stdout",
     "output_type": "stream",
     "text": [
      "RMSE: 13.13\n",
      "alpha: 0.19\n"
     ]
    }
   ],
   "source": [
    "model_lasso_interactions = lasso_model_fitter('overall_score', feature_interactions)\n",
    "\n",
    "print(\"RMSE: {}\".format(-model_lasso_interactions.best_score_.round(2)))\n",
    "print(\"alpha: {}\".format(model_lasso_interactions.best_params_['lasso__alpha'].round(2)))"
   ]
  },
  {
   "cell_type": "code",
   "execution_count": 53,
   "id": "written-buffalo",
   "metadata": {},
   "outputs": [
    {
     "data": {
      "text/plain": [
       "17.14354148047461"
      ]
     },
     "execution_count": 53,
     "metadata": {},
     "output_type": "execute_result"
    }
   ],
   "source": [
    "y_pred_single_lasso_interactions = test_data_predictor_single(players_test, model_lasso_interactions.best_estimator_, True)['overall_score']\n",
    "\n",
    "mean_squared_error(y_test, y_pred_single_lasso_interactions)**0.5"
   ]
  },
  {
   "cell_type": "markdown",
   "id": "liked-familiar",
   "metadata": {},
   "source": [
    "### Multiple Models"
   ]
  },
  {
   "cell_type": "markdown",
   "id": "worse-warehouse",
   "metadata": {},
   "source": [
    "#### No Interactions"
   ]
  },
  {
   "cell_type": "code",
   "execution_count": 54,
   "id": "mobile-exhibit",
   "metadata": {},
   "outputs": [
    {
     "name": "stdout",
     "output_type": "stream",
     "text": [
      "RMSE: 14.38\n",
      "alpha: 0.94\n"
     ]
    }
   ],
   "source": [
    "model_lasso_mins = lasso_model_fitter('mins')\n",
    "\n",
    "print(\"RMSE: {}\".format(-model_lasso_mins.best_score_.round(2)))\n",
    "print(\"alpha: {}\".format(model_lasso_mins.best_params_['lasso__alpha'].round(2)))"
   ]
  },
  {
   "cell_type": "code",
   "execution_count": 55,
   "id": "committed-quality",
   "metadata": {},
   "outputs": [
    {
     "name": "stderr",
     "output_type": "stream",
     "text": [
      "/Users/samg/anaconda3/lib/python3.7/site-packages/sklearn/linear_model/_coordinate_descent.py:531: ConvergenceWarning: Objective did not converge. You might want to increase the number of iterations. Duality gap: 1.4962222346714498, tolerance: 0.29365483870967746\n",
      "  positive)\n",
      "/Users/samg/anaconda3/lib/python3.7/site-packages/sklearn/linear_model/_coordinate_descent.py:531: ConvergenceWarning: Objective did not converge. You might want to increase the number of iterations. Duality gap: 0.8586470627324161, tolerance: 0.32554838709677414\n",
      "  positive)\n",
      "/Users/samg/anaconda3/lib/python3.7/site-packages/sklearn/linear_model/_coordinate_descent.py:531: ConvergenceWarning: Objective did not converge. You might want to increase the number of iterations. Duality gap: 0.42664607997153325, tolerance: 0.29295483870967737\n",
      "  positive)\n",
      "/Users/samg/anaconda3/lib/python3.7/site-packages/sklearn/linear_model/_coordinate_descent.py:531: ConvergenceWarning: Objective did not converge. You might want to increase the number of iterations. Duality gap: 0.5041919580298782, tolerance: 0.34243467741935485\n",
      "  positive)\n",
      "/Users/samg/anaconda3/lib/python3.7/site-packages/sklearn/linear_model/_coordinate_descent.py:531: ConvergenceWarning: Objective did not converge. You might want to increase the number of iterations. Duality gap: 0.6769895975098734, tolerance: 0.34243467741935485\n",
      "  positive)\n"
     ]
    },
    {
     "name": "stdout",
     "output_type": "stream",
     "text": [
      "RMSE: 3.66\n",
      "alpha: 0.08\n"
     ]
    }
   ],
   "source": [
    "model_lasso_tackles = lasso_model_fitter('tackles')\n",
    "\n",
    "print(\"RMSE: {}\".format(-model_lasso_tackles.best_score_.round(2)))\n",
    "print(\"alpha: {}\".format(model_lasso_tackles.best_params_['lasso__alpha'].round(2)))"
   ]
  },
  {
   "cell_type": "code",
   "execution_count": 56,
   "id": "pregnant-cloud",
   "metadata": {},
   "outputs": [
    {
     "name": "stdout",
     "output_type": "stream",
     "text": [
      "RMSE: 0.46\n",
      "alpha: 0.12\n"
     ]
    }
   ],
   "source": [
    "model_lasso_d_tackles = lasso_model_fitter('d_tackles')\n",
    "\n",
    "print(\"RMSE: {}\".format(-model_lasso_d_tackles.best_score_.round(2)))\n",
    "print(\"alpha: {}\".format(model_lasso_d_tackles.best_params_['lasso__alpha'].round(2)))"
   ]
  },
  {
   "cell_type": "code",
   "execution_count": 57,
   "id": "continuing-booking",
   "metadata": {},
   "outputs": [
    {
     "name": "stdout",
     "output_type": "stream",
     "text": [
      "RMSE: 1.28\n",
      "alpha: 0.07\n"
     ]
    }
   ],
   "source": [
    "model_lasso_t_breaks = lasso_model_fitter('t_breaks')\n",
    "\n",
    "print(\"RMSE: {}\".format(-model_lasso_t_breaks.best_score_.round(2)))\n",
    "print(\"alpha: {}\".format(model_lasso_t_breaks.best_params_['lasso__alpha'].round(2)))"
   ]
  },
  {
   "cell_type": "code",
   "execution_count": 58,
   "id": "laden-detective",
   "metadata": {},
   "outputs": [
    {
     "name": "stderr",
     "output_type": "stream",
     "text": [
      "/Users/samg/anaconda3/lib/python3.7/site-packages/sklearn/linear_model/_coordinate_descent.py:531: ConvergenceWarning: Objective did not converge. You might want to increase the number of iterations. Duality gap: 33.60487501355237, tolerance: 14.089363709677421\n",
      "  positive)\n",
      "/Users/samg/anaconda3/lib/python3.7/site-packages/sklearn/linear_model/_coordinate_descent.py:531: ConvergenceWarning: Objective did not converge. You might want to increase the number of iterations. Duality gap: 42.71881207457045, tolerance: 14.114644800000004\n",
      "  positive)\n",
      "/Users/samg/anaconda3/lib/python3.7/site-packages/sklearn/linear_model/_coordinate_descent.py:531: ConvergenceWarning: Objective did not converge. You might want to increase the number of iterations. Duality gap: 36.03536567625997, tolerance: 14.089363709677421\n",
      "  positive)\n"
     ]
    },
    {
     "name": "stdout",
     "output_type": "stream",
     "text": [
      "RMSE: 24.8\n",
      "alpha: 0.76\n"
     ]
    }
   ],
   "source": [
    "model_lasso_m_ball = lasso_model_fitter('m_ball')\n",
    "\n",
    "print(\"RMSE: {}\".format(-model_lasso_m_ball.best_score_.round(2)))\n",
    "print(\"alpha: {}\".format(model_lasso_m_ball.best_params_['lasso__alpha'].round(2)))"
   ]
  },
  {
   "cell_type": "code",
   "execution_count": 59,
   "id": "surprised-postage",
   "metadata": {},
   "outputs": [
    {
     "name": "stdout",
     "output_type": "stream",
     "text": [
      "RMSE: 0.26\n",
      "alpha: 0.03\n"
     ]
    }
   ],
   "source": [
    "model_lasso_tries = lasso_model_fitter('tries')\n",
    "\n",
    "print(\"RMSE: {}\".format(-model_lasso_tries.best_score_.round(2)))\n",
    "print(\"alpha: {}\".format(model_lasso_tries.best_params_['lasso__alpha'].round(2)))"
   ]
  },
  {
   "cell_type": "code",
   "execution_count": 60,
   "id": "commercial-jordan",
   "metadata": {},
   "outputs": [
    {
     "name": "stdout",
     "output_type": "stream",
     "text": [
      "RMSE: 0.27\n",
      "alpha: 0.15\n"
     ]
    }
   ],
   "source": [
    "model_lasso_conversions = lasso_model_fitter('conversions')\n",
    "\n",
    "print(\"RMSE: {}\".format(-model_lasso_conversions.best_score_.round(2)))\n",
    "print(\"alpha: {}\".format(model_lasso_conversions.best_params_['lasso__alpha'].round(2)))"
   ]
  },
  {
   "cell_type": "code",
   "execution_count": 61,
   "id": "instrumental-making",
   "metadata": {},
   "outputs": [
    {
     "name": "stdout",
     "output_type": "stream",
     "text": [
      "RMSE: 0.23\n",
      "alpha: 0.07\n"
     ]
    }
   ],
   "source": [
    "model_lasso_penalties = lasso_model_fitter('penalties')\n",
    "\n",
    "print(\"RMSE: {}\".format(-model_lasso_penalties.best_score_.round(2)))\n",
    "print(\"alpha: {}\".format(model_lasso_penalties.best_params_['lasso__alpha'].round(2)))"
   ]
  },
  {
   "cell_type": "code",
   "execution_count": 62,
   "id": "medieval-principle",
   "metadata": {},
   "outputs": [
    {
     "data": {
      "text/plain": [
       "15.536860402263397"
      ]
     },
     "execution_count": 62,
     "metadata": {},
     "output_type": "execute_result"
    }
   ],
   "source": [
    "y_pred_multiple_lasso_no_interactions = test_data_predictor_multiple(players_test, 'lasso', False)['overall_score']\n",
    "\n",
    "mean_squared_error(y_test, y_pred_multiple_lasso_no_interactions)**0.5"
   ]
  },
  {
   "cell_type": "markdown",
   "id": "innocent-robertson",
   "metadata": {},
   "source": [
    "#### Interactions"
   ]
  },
  {
   "cell_type": "code",
   "execution_count": 63,
   "id": "compressed-celebration",
   "metadata": {},
   "outputs": [
    {
     "name": "stderr",
     "output_type": "stream",
     "text": [
      "/Users/samg/anaconda3/lib/python3.7/site-packages/sklearn/linear_model/_coordinate_descent.py:531: ConvergenceWarning: Objective did not converge. You might want to increase the number of iterations. Duality gap: 179.93359484124994, tolerance: 8.29111519354839\n",
      "  positive)\n",
      "/Users/samg/anaconda3/lib/python3.7/site-packages/sklearn/linear_model/_coordinate_descent.py:531: ConvergenceWarning: Objective did not converge. You might want to increase the number of iterations. Duality gap: 156.0188581122493, tolerance: 8.473149548387097\n",
      "  positive)\n",
      "/Users/samg/anaconda3/lib/python3.7/site-packages/sklearn/linear_model/_coordinate_descent.py:531: ConvergenceWarning: Objective did not converge. You might want to increase the number of iterations. Duality gap: 156.30877705857347, tolerance: 8.549294548387099\n",
      "  positive)\n",
      "/Users/samg/anaconda3/lib/python3.7/site-packages/sklearn/linear_model/_coordinate_descent.py:531: ConvergenceWarning: Objective did not converge. You might want to increase the number of iterations. Duality gap: 109.64160785431886, tolerance: 8.60650670967742\n",
      "  positive)\n",
      "/Users/samg/anaconda3/lib/python3.7/site-packages/sklearn/linear_model/_coordinate_descent.py:531: ConvergenceWarning: Objective did not converge. You might want to increase the number of iterations. Duality gap: 184.24283216466756, tolerance: 8.357258419354839\n",
      "  positive)\n",
      "/Users/samg/anaconda3/lib/python3.7/site-packages/sklearn/linear_model/_coordinate_descent.py:531: ConvergenceWarning: Objective did not converge. You might want to increase the number of iterations. Duality gap: 11.308402711754752, tolerance: 8.478094548387096\n",
      "  positive)\n",
      "/Users/samg/anaconda3/lib/python3.7/site-packages/sklearn/linear_model/_coordinate_descent.py:531: ConvergenceWarning: Objective did not converge. You might want to increase the number of iterations. Duality gap: 130.49415673372278, tolerance: 8.669658935483872\n",
      "  positive)\n",
      "/Users/samg/anaconda3/lib/python3.7/site-packages/sklearn/linear_model/_coordinate_descent.py:531: ConvergenceWarning: Objective did not converge. You might want to increase the number of iterations. Duality gap: 153.33934830156068, tolerance: 8.404375872000001\n",
      "  positive)\n",
      "/Users/samg/anaconda3/lib/python3.7/site-packages/sklearn/linear_model/_coordinate_descent.py:531: ConvergenceWarning: Objective did not converge. You might want to increase the number of iterations. Duality gap: 144.74555187321675, tolerance: 8.915046592000001\n",
      "  positive)\n",
      "/Users/samg/anaconda3/lib/python3.7/site-packages/sklearn/linear_model/_coordinate_descent.py:531: ConvergenceWarning: Objective did not converge. You might want to increase the number of iterations. Duality gap: 172.30238748234115, tolerance: 8.473149548387097\n",
      "  positive)\n",
      "/Users/samg/anaconda3/lib/python3.7/site-packages/sklearn/linear_model/_coordinate_descent.py:531: ConvergenceWarning: Objective did not converge. You might want to increase the number of iterations. Duality gap: 166.71048032471845, tolerance: 8.357258419354839\n",
      "  positive)\n",
      "/Users/samg/anaconda3/lib/python3.7/site-packages/sklearn/linear_model/_coordinate_descent.py:531: ConvergenceWarning: Objective did not converge. You might want to increase the number of iterations. Duality gap: 145.25718235356544, tolerance: 8.669658935483872\n",
      "  positive)\n",
      "/Users/samg/anaconda3/lib/python3.7/site-packages/sklearn/linear_model/_coordinate_descent.py:531: ConvergenceWarning: Objective did not converge. You might want to increase the number of iterations. Duality gap: 169.19732004084653, tolerance: 8.404375872000001\n",
      "  positive)\n",
      "/Users/samg/anaconda3/lib/python3.7/site-packages/sklearn/linear_model/_coordinate_descent.py:531: ConvergenceWarning: Objective did not converge. You might want to increase the number of iterations. Duality gap: 12.633658871589432, tolerance: 8.357258419354839\n",
      "  positive)\n"
     ]
    },
    {
     "name": "stdout",
     "output_type": "stream",
     "text": [
      "RMSE: 14.7\n",
      "alpha: 0.81\n"
     ]
    }
   ],
   "source": [
    "model_lasso_interactions_mins = lasso_model_fitter('mins', feature_interactions)\n",
    "\n",
    "print(\"RMSE: {}\".format(-model_lasso_interactions_mins.best_score_.round(2)))\n",
    "print(\"alpha: {}\".format(model_lasso_interactions_mins.best_params_['lasso__alpha'].round(2)))"
   ]
  },
  {
   "cell_type": "code",
   "execution_count": 100,
   "id": "fatal-vertical",
   "metadata": {},
   "outputs": [
    {
     "data": {
      "text/html": [
       "<div>\n",
       "<style scoped>\n",
       "    .dataframe tbody tr th:only-of-type {\n",
       "        vertical-align: middle;\n",
       "    }\n",
       "\n",
       "    .dataframe tbody tr th {\n",
       "        vertical-align: top;\n",
       "    }\n",
       "\n",
       "    .dataframe thead th {\n",
       "        text-align: right;\n",
       "    }\n",
       "</style>\n",
       "<table border=\"1\" class=\"dataframe\">\n",
       "  <thead>\n",
       "    <tr style=\"text-align: right;\">\n",
       "      <th></th>\n",
       "      <th>features</th>\n",
       "      <th>coefficient</th>\n",
       "    </tr>\n",
       "  </thead>\n",
       "  <tbody>\n",
       "    <tr>\n",
       "      <th>0</th>\n",
       "      <td>cost</td>\n",
       "      <td>3.668823</td>\n",
       "    </tr>\n",
       "    <tr>\n",
       "      <th>1</th>\n",
       "      <td>started</td>\n",
       "      <td>14.338790</td>\n",
       "    </tr>\n",
       "    <tr>\n",
       "      <th>4</th>\n",
       "      <td>Ireland</td>\n",
       "      <td>-0.379666</td>\n",
       "    </tr>\n",
       "    <tr>\n",
       "      <th>5</th>\n",
       "      <td>Italy</td>\n",
       "      <td>2.759819</td>\n",
       "    </tr>\n",
       "    <tr>\n",
       "      <th>11</th>\n",
       "      <td>Full Back</td>\n",
       "      <td>1.868457</td>\n",
       "    </tr>\n",
       "    <tr>\n",
       "      <th>15</th>\n",
       "      <td>Second Row</td>\n",
       "      <td>0.686331</td>\n",
       "    </tr>\n",
       "    <tr>\n",
       "      <th>16</th>\n",
       "      <td>Wing</td>\n",
       "      <td>1.786341</td>\n",
       "    </tr>\n",
       "    <tr>\n",
       "      <th>19</th>\n",
       "      <td>cost_started</td>\n",
       "      <td>4.204112</td>\n",
       "    </tr>\n",
       "    <tr>\n",
       "      <th>21</th>\n",
       "      <td>cost_France</td>\n",
       "      <td>-0.009783</td>\n",
       "    </tr>\n",
       "    <tr>\n",
       "      <th>25</th>\n",
       "      <td>cost_Wales</td>\n",
       "      <td>0.380242</td>\n",
       "    </tr>\n",
       "    <tr>\n",
       "      <th>27</th>\n",
       "      <td>cost_Centre</td>\n",
       "      <td>0.830675</td>\n",
       "    </tr>\n",
       "    <tr>\n",
       "      <th>32</th>\n",
       "      <td>cost_Scrum Half</td>\n",
       "      <td>-0.274726</td>\n",
       "    </tr>\n",
       "  </tbody>\n",
       "</table>\n",
       "</div>"
      ],
      "text/plain": [
       "           features  coefficient\n",
       "0              cost     3.668823\n",
       "1           started    14.338790\n",
       "4           Ireland    -0.379666\n",
       "5             Italy     2.759819\n",
       "11        Full Back     1.868457\n",
       "15       Second Row     0.686331\n",
       "16             Wing     1.786341\n",
       "19     cost_started     4.204112\n",
       "21      cost_France    -0.009783\n",
       "25       cost_Wales     0.380242\n",
       "27      cost_Centre     0.830675\n",
       "32  cost_Scrum Half    -0.274726"
      ]
     },
     "execution_count": 100,
     "metadata": {},
     "output_type": "execute_result"
    }
   ],
   "source": [
    "df = feature_coefficients(model_lasso_interactions_mins.best_estimator_[1], feature_interactions)\n",
    "df[df['coefficient'] != 0]"
   ]
  },
  {
   "cell_type": "code",
   "execution_count": 64,
   "id": "exciting-thought",
   "metadata": {},
   "outputs": [
    {
     "name": "stderr",
     "output_type": "stream",
     "text": [
      "/Users/samg/anaconda3/lib/python3.7/site-packages/sklearn/linear_model/_coordinate_descent.py:531: ConvergenceWarning: Objective did not converge. You might want to increase the number of iterations. Duality gap: 3.8304606552384257, tolerance: 0.3603483870967742\n",
      "  positive)\n"
     ]
    },
    {
     "name": "stdout",
     "output_type": "stream",
     "text": [
      "RMSE: 3.5\n",
      "alpha: 0.07\n"
     ]
    }
   ],
   "source": [
    "model_lasso_interactions_tackles = lasso_model_fitter('tackles', feature_interactions)\n",
    "\n",
    "print(\"RMSE: {}\".format(-model_lasso_interactions_tackles.best_score_.round(2)))\n",
    "print(\"alpha: {}\".format(model_lasso_interactions_tackles.best_params_['lasso__alpha'].round(2)))"
   ]
  },
  {
   "cell_type": "code",
   "execution_count": 99,
   "id": "acknowledged-deposit",
   "metadata": {},
   "outputs": [
    {
     "data": {
      "text/html": [
       "<div>\n",
       "<style scoped>\n",
       "    .dataframe tbody tr th:only-of-type {\n",
       "        vertical-align: middle;\n",
       "    }\n",
       "\n",
       "    .dataframe tbody tr th {\n",
       "        vertical-align: top;\n",
       "    }\n",
       "\n",
       "    .dataframe thead th {\n",
       "        text-align: right;\n",
       "    }\n",
       "</style>\n",
       "<table border=\"1\" class=\"dataframe\">\n",
       "  <thead>\n",
       "    <tr style=\"text-align: right;\">\n",
       "      <th></th>\n",
       "      <th>features</th>\n",
       "      <th>coefficient</th>\n",
       "    </tr>\n",
       "  </thead>\n",
       "  <tbody>\n",
       "    <tr>\n",
       "      <th>0</th>\n",
       "      <td>cost</td>\n",
       "      <td>0.320935</td>\n",
       "    </tr>\n",
       "    <tr>\n",
       "      <th>1</th>\n",
       "      <td>started</td>\n",
       "      <td>1.556767</td>\n",
       "    </tr>\n",
       "    <tr>\n",
       "      <th>2</th>\n",
       "      <td>England</td>\n",
       "      <td>0.705308</td>\n",
       "    </tr>\n",
       "    <tr>\n",
       "      <th>4</th>\n",
       "      <td>Ireland</td>\n",
       "      <td>-0.007055</td>\n",
       "    </tr>\n",
       "    <tr>\n",
       "      <th>11</th>\n",
       "      <td>Full Back</td>\n",
       "      <td>-0.833606</td>\n",
       "    </tr>\n",
       "    <tr>\n",
       "      <th>12</th>\n",
       "      <td>Hooker</td>\n",
       "      <td>0.499800</td>\n",
       "    </tr>\n",
       "    <tr>\n",
       "      <th>13</th>\n",
       "      <td>Prop</td>\n",
       "      <td>0.664427</td>\n",
       "    </tr>\n",
       "    <tr>\n",
       "      <th>18</th>\n",
       "      <td>kicker</td>\n",
       "      <td>-0.000257</td>\n",
       "    </tr>\n",
       "    <tr>\n",
       "      <th>19</th>\n",
       "      <td>cost_started</td>\n",
       "      <td>0.399248</td>\n",
       "    </tr>\n",
       "    <tr>\n",
       "      <th>21</th>\n",
       "      <td>cost_France</td>\n",
       "      <td>0.381985</td>\n",
       "    </tr>\n",
       "    <tr>\n",
       "      <th>24</th>\n",
       "      <td>cost_Scotland</td>\n",
       "      <td>-0.402547</td>\n",
       "    </tr>\n",
       "    <tr>\n",
       "      <th>25</th>\n",
       "      <td>cost_Wales</td>\n",
       "      <td>2.255398</td>\n",
       "    </tr>\n",
       "    <tr>\n",
       "      <th>26</th>\n",
       "      <td>cost_Back Row</td>\n",
       "      <td>1.368482</td>\n",
       "    </tr>\n",
       "    <tr>\n",
       "      <th>30</th>\n",
       "      <td>cost_Hooker</td>\n",
       "      <td>0.004107</td>\n",
       "    </tr>\n",
       "    <tr>\n",
       "      <th>32</th>\n",
       "      <td>cost_Scrum Half</td>\n",
       "      <td>-0.405820</td>\n",
       "    </tr>\n",
       "    <tr>\n",
       "      <th>33</th>\n",
       "      <td>cost_Second Row</td>\n",
       "      <td>1.434898</td>\n",
       "    </tr>\n",
       "    <tr>\n",
       "      <th>34</th>\n",
       "      <td>cost_Wing</td>\n",
       "      <td>-0.789276</td>\n",
       "    </tr>\n",
       "    <tr>\n",
       "      <th>35</th>\n",
       "      <td>cost_v_italy</td>\n",
       "      <td>0.333315</td>\n",
       "    </tr>\n",
       "    <tr>\n",
       "      <th>36</th>\n",
       "      <td>cost_kicker</td>\n",
       "      <td>-0.216446</td>\n",
       "    </tr>\n",
       "  </tbody>\n",
       "</table>\n",
       "</div>"
      ],
      "text/plain": [
       "           features  coefficient\n",
       "0              cost     0.320935\n",
       "1           started     1.556767\n",
       "2           England     0.705308\n",
       "4           Ireland    -0.007055\n",
       "11        Full Back    -0.833606\n",
       "12           Hooker     0.499800\n",
       "13             Prop     0.664427\n",
       "18           kicker    -0.000257\n",
       "19     cost_started     0.399248\n",
       "21      cost_France     0.381985\n",
       "24    cost_Scotland    -0.402547\n",
       "25       cost_Wales     2.255398\n",
       "26    cost_Back Row     1.368482\n",
       "30      cost_Hooker     0.004107\n",
       "32  cost_Scrum Half    -0.405820\n",
       "33  cost_Second Row     1.434898\n",
       "34        cost_Wing    -0.789276\n",
       "35     cost_v_italy     0.333315\n",
       "36      cost_kicker    -0.216446"
      ]
     },
     "execution_count": 99,
     "metadata": {},
     "output_type": "execute_result"
    }
   ],
   "source": [
    "df = feature_coefficients(model_lasso_interactions_tackles.best_estimator_[1], feature_interactions)\n",
    "df[df['coefficient'] != 0]"
   ]
  },
  {
   "cell_type": "code",
   "execution_count": 65,
   "id": "yellow-vintage",
   "metadata": {
    "scrolled": true
   },
   "outputs": [
    {
     "name": "stdout",
     "output_type": "stream",
     "text": [
      "RMSE: 0.46\n",
      "alpha: 0.14\n"
     ]
    }
   ],
   "source": [
    "model_lasso_interactions_d_tackles = lasso_model_fitter('d_tackles', feature_interactions)\n",
    "\n",
    "print(\"RMSE: {}\".format(-model_lasso_interactions_d_tackles.best_score_.round(2)))\n",
    "print(\"alpha: {}\".format(model_lasso_interactions_d_tackles.best_params_['lasso__alpha'].round(2)))"
   ]
  },
  {
   "cell_type": "code",
   "execution_count": 101,
   "id": "annual-bacon",
   "metadata": {},
   "outputs": [
    {
     "data": {
      "text/html": [
       "<div>\n",
       "<style scoped>\n",
       "    .dataframe tbody tr th:only-of-type {\n",
       "        vertical-align: middle;\n",
       "    }\n",
       "\n",
       "    .dataframe tbody tr th {\n",
       "        vertical-align: top;\n",
       "    }\n",
       "\n",
       "    .dataframe thead th {\n",
       "        text-align: right;\n",
       "    }\n",
       "</style>\n",
       "<table border=\"1\" class=\"dataframe\">\n",
       "  <thead>\n",
       "    <tr style=\"text-align: right;\">\n",
       "      <th></th>\n",
       "      <th>features</th>\n",
       "      <th>coefficient</th>\n",
       "    </tr>\n",
       "  </thead>\n",
       "  <tbody>\n",
       "  </tbody>\n",
       "</table>\n",
       "</div>"
      ],
      "text/plain": [
       "Empty DataFrame\n",
       "Columns: [features, coefficient]\n",
       "Index: []"
      ]
     },
     "execution_count": 101,
     "metadata": {},
     "output_type": "execute_result"
    }
   ],
   "source": [
    "df = feature_coefficients(model_lasso_interactions_d_tackles.best_estimator_[1], feature_interactions)\n",
    "df[df['coefficient'] != 0]"
   ]
  },
  {
   "cell_type": "code",
   "execution_count": 66,
   "id": "tribal-retreat",
   "metadata": {},
   "outputs": [
    {
     "name": "stdout",
     "output_type": "stream",
     "text": [
      "RMSE: 1.23\n",
      "alpha: 0.07\n"
     ]
    }
   ],
   "source": [
    "model_lasso_interactions_t_breaks = lasso_model_fitter('t_breaks', feature_interactions)\n",
    "\n",
    "print(\"RMSE: {}\".format(-model_lasso_interactions_t_breaks.best_score_.round(2)))\n",
    "print(\"alpha: {}\".format(model_lasso_interactions_t_breaks.best_params_['lasso__alpha'].round(2)))"
   ]
  },
  {
   "cell_type": "code",
   "execution_count": 102,
   "id": "extended-gentleman",
   "metadata": {},
   "outputs": [
    {
     "data": {
      "text/html": [
       "<div>\n",
       "<style scoped>\n",
       "    .dataframe tbody tr th:only-of-type {\n",
       "        vertical-align: middle;\n",
       "    }\n",
       "\n",
       "    .dataframe tbody tr th {\n",
       "        vertical-align: top;\n",
       "    }\n",
       "\n",
       "    .dataframe thead th {\n",
       "        text-align: right;\n",
       "    }\n",
       "</style>\n",
       "<table border=\"1\" class=\"dataframe\">\n",
       "  <thead>\n",
       "    <tr style=\"text-align: right;\">\n",
       "      <th></th>\n",
       "      <th>features</th>\n",
       "      <th>coefficient</th>\n",
       "    </tr>\n",
       "  </thead>\n",
       "  <tbody>\n",
       "    <tr>\n",
       "      <th>0</th>\n",
       "      <td>cost</td>\n",
       "      <td>0.377162</td>\n",
       "    </tr>\n",
       "    <tr>\n",
       "      <th>10</th>\n",
       "      <td>Fly Half</td>\n",
       "      <td>0.034106</td>\n",
       "    </tr>\n",
       "    <tr>\n",
       "      <th>19</th>\n",
       "      <td>cost_started</td>\n",
       "      <td>0.144192</td>\n",
       "    </tr>\n",
       "    <tr>\n",
       "      <th>20</th>\n",
       "      <td>cost_England</td>\n",
       "      <td>-0.148552</td>\n",
       "    </tr>\n",
       "    <tr>\n",
       "      <th>23</th>\n",
       "      <td>cost_Italy</td>\n",
       "      <td>0.163761</td>\n",
       "    </tr>\n",
       "    <tr>\n",
       "      <th>24</th>\n",
       "      <td>cost_Scotland</td>\n",
       "      <td>0.079119</td>\n",
       "    </tr>\n",
       "    <tr>\n",
       "      <th>25</th>\n",
       "      <td>cost_Wales</td>\n",
       "      <td>-0.053575</td>\n",
       "    </tr>\n",
       "    <tr>\n",
       "      <th>27</th>\n",
       "      <td>cost_Centre</td>\n",
       "      <td>0.202168</td>\n",
       "    </tr>\n",
       "    <tr>\n",
       "      <th>29</th>\n",
       "      <td>cost_Full Back</td>\n",
       "      <td>0.473897</td>\n",
       "    </tr>\n",
       "    <tr>\n",
       "      <th>33</th>\n",
       "      <td>cost_Second Row</td>\n",
       "      <td>-0.111669</td>\n",
       "    </tr>\n",
       "    <tr>\n",
       "      <th>34</th>\n",
       "      <td>cost_Wing</td>\n",
       "      <td>0.441565</td>\n",
       "    </tr>\n",
       "  </tbody>\n",
       "</table>\n",
       "</div>"
      ],
      "text/plain": [
       "           features  coefficient\n",
       "0              cost     0.377162\n",
       "10         Fly Half     0.034106\n",
       "19     cost_started     0.144192\n",
       "20     cost_England    -0.148552\n",
       "23       cost_Italy     0.163761\n",
       "24    cost_Scotland     0.079119\n",
       "25       cost_Wales    -0.053575\n",
       "27      cost_Centre     0.202168\n",
       "29   cost_Full Back     0.473897\n",
       "33  cost_Second Row    -0.111669\n",
       "34        cost_Wing     0.441565"
      ]
     },
     "execution_count": 102,
     "metadata": {},
     "output_type": "execute_result"
    }
   ],
   "source": [
    "df = feature_coefficients(model_lasso_interactions_t_breaks.best_estimator_[1], feature_interactions)\n",
    "df[df['coefficient'] != 0]"
   ]
  },
  {
   "cell_type": "code",
   "execution_count": 67,
   "id": "interested-technology",
   "metadata": {},
   "outputs": [
    {
     "name": "stderr",
     "output_type": "stream",
     "text": [
      "/Users/samg/anaconda3/lib/python3.7/site-packages/sklearn/linear_model/_coordinate_descent.py:531: ConvergenceWarning: Objective did not converge. You might want to increase the number of iterations. Duality gap: 758.4511748963341, tolerance: 13.314741935483873\n",
      "  positive)\n",
      "/Users/samg/anaconda3/lib/python3.7/site-packages/sklearn/linear_model/_coordinate_descent.py:531: ConvergenceWarning: Objective did not converge. You might want to increase the number of iterations. Duality gap: 1436.2887230826746, tolerance: 14.505692741935489\n",
      "  positive)\n",
      "/Users/samg/anaconda3/lib/python3.7/site-packages/sklearn/linear_model/_coordinate_descent.py:531: ConvergenceWarning: Objective did not converge. You might want to increase the number of iterations. Duality gap: 1454.1179959557994, tolerance: 13.796009677419358\n",
      "  positive)\n",
      "/Users/samg/anaconda3/lib/python3.7/site-packages/sklearn/linear_model/_coordinate_descent.py:531: ConvergenceWarning: Objective did not converge. You might want to increase the number of iterations. Duality gap: 78.05337192017032, tolerance: 12.199499193548387\n",
      "  positive)\n",
      "/Users/samg/anaconda3/lib/python3.7/site-packages/sklearn/linear_model/_coordinate_descent.py:531: ConvergenceWarning: Objective did not converge. You might want to increase the number of iterations. Duality gap: 9586.702289209848, tolerance: 12.835034677419356\n",
      "  positive)\n",
      "/Users/samg/anaconda3/lib/python3.7/site-packages/sklearn/linear_model/_coordinate_descent.py:531: ConvergenceWarning: Objective did not converge. You might want to increase the number of iterations. Duality gap: 121.76401173898921, tolerance: 13.183834677419355\n",
      "  positive)\n",
      "/Users/samg/anaconda3/lib/python3.7/site-packages/sklearn/linear_model/_coordinate_descent.py:531: ConvergenceWarning: Objective did not converge. You might want to increase the number of iterations. Duality gap: 1311.6151874451898, tolerance: 14.089363709677421\n",
      "  positive)\n",
      "/Users/samg/anaconda3/lib/python3.7/site-packages/sklearn/linear_model/_coordinate_descent.py:531: ConvergenceWarning: Objective did not converge. You might want to increase the number of iterations. Duality gap: 554.9516687368014, tolerance: 13.60167983870968\n",
      "  positive)\n",
      "/Users/samg/anaconda3/lib/python3.7/site-packages/sklearn/linear_model/_coordinate_descent.py:531: ConvergenceWarning: Objective did not converge. You might want to increase the number of iterations. Duality gap: 72.52484453530633, tolerance: 14.114644800000004\n",
      "  positive)\n",
      "/Users/samg/anaconda3/lib/python3.7/site-packages/sklearn/linear_model/_coordinate_descent.py:531: ConvergenceWarning: Objective did not converge. You might want to increase the number of iterations. Duality gap: 560.1910493500109, tolerance: 14.4806272\n",
      "  positive)\n",
      "/Users/samg/anaconda3/lib/python3.7/site-packages/sklearn/linear_model/_coordinate_descent.py:531: ConvergenceWarning: Objective did not converge. You might want to increase the number of iterations. Duality gap: 98.87516453443823, tolerance: 12.199499193548387\n",
      "  positive)\n",
      "/Users/samg/anaconda3/lib/python3.7/site-packages/sklearn/linear_model/_coordinate_descent.py:531: ConvergenceWarning: Objective did not converge. You might want to increase the number of iterations. Duality gap: 27.118577518805978, tolerance: 12.835034677419356\n",
      "  positive)\n",
      "/Users/samg/anaconda3/lib/python3.7/site-packages/sklearn/linear_model/_coordinate_descent.py:531: ConvergenceWarning: Objective did not converge. You might want to increase the number of iterations. Duality gap: 135.52425626013428, tolerance: 13.183834677419355\n",
      "  positive)\n",
      "/Users/samg/anaconda3/lib/python3.7/site-packages/sklearn/linear_model/_coordinate_descent.py:531: ConvergenceWarning: Objective did not converge. You might want to increase the number of iterations. Duality gap: 18.94874426592287, tolerance: 14.089363709677421\n",
      "  positive)\n",
      "/Users/samg/anaconda3/lib/python3.7/site-packages/sklearn/linear_model/_coordinate_descent.py:531: ConvergenceWarning: Objective did not converge. You might want to increase the number of iterations. Duality gap: 139.18777589590172, tolerance: 13.60167983870968\n",
      "  positive)\n",
      "/Users/samg/anaconda3/lib/python3.7/site-packages/sklearn/linear_model/_coordinate_descent.py:531: ConvergenceWarning: Objective did not converge. You might want to increase the number of iterations. Duality gap: 102.1113585092171, tolerance: 14.114644800000004\n",
      "  positive)\n",
      "/Users/samg/anaconda3/lib/python3.7/site-packages/sklearn/linear_model/_coordinate_descent.py:531: ConvergenceWarning: Objective did not converge. You might want to increase the number of iterations. Duality gap: 15.919159356766613, tolerance: 14.4806272\n",
      "  positive)\n",
      "/Users/samg/anaconda3/lib/python3.7/site-packages/sklearn/linear_model/_coordinate_descent.py:531: ConvergenceWarning: Objective did not converge. You might want to increase the number of iterations. Duality gap: 15.370598453613638, tolerance: 12.199499193548387\n",
      "  positive)\n",
      "/Users/samg/anaconda3/lib/python3.7/site-packages/sklearn/linear_model/_coordinate_descent.py:531: ConvergenceWarning: Objective did not converge. You might want to increase the number of iterations. Duality gap: 34.89012443737738, tolerance: 14.089363709677421\n",
      "  positive)\n",
      "/Users/samg/anaconda3/lib/python3.7/site-packages/sklearn/linear_model/_coordinate_descent.py:531: ConvergenceWarning: Objective did not converge. You might want to increase the number of iterations. Duality gap: 151.2118457593897, tolerance: 13.60167983870968\n",
      "  positive)\n",
      "/Users/samg/anaconda3/lib/python3.7/site-packages/sklearn/linear_model/_coordinate_descent.py:531: ConvergenceWarning: Objective did not converge. You might want to increase the number of iterations. Duality gap: 19.301062685721263, tolerance: 14.114644800000004\n",
      "  positive)\n",
      "/Users/samg/anaconda3/lib/python3.7/site-packages/sklearn/linear_model/_coordinate_descent.py:531: ConvergenceWarning: Objective did not converge. You might want to increase the number of iterations. Duality gap: 25.222231137769995, tolerance: 14.4806272\n",
      "  positive)\n",
      "/Users/samg/anaconda3/lib/python3.7/site-packages/sklearn/linear_model/_coordinate_descent.py:531: ConvergenceWarning: Objective did not converge. You might want to increase the number of iterations. Duality gap: 16.070632550443406, tolerance: 12.199499193548387\n",
      "  positive)\n",
      "/Users/samg/anaconda3/lib/python3.7/site-packages/sklearn/linear_model/_coordinate_descent.py:531: ConvergenceWarning: Objective did not converge. You might want to increase the number of iterations. Duality gap: 39.337234874292335, tolerance: 14.089363709677421\n",
      "  positive)\n",
      "/Users/samg/anaconda3/lib/python3.7/site-packages/sklearn/linear_model/_coordinate_descent.py:531: ConvergenceWarning: Objective did not converge. You might want to increase the number of iterations. Duality gap: 26.46050346418633, tolerance: 14.4806272\n",
      "  positive)\n",
      "/Users/samg/anaconda3/lib/python3.7/site-packages/sklearn/linear_model/_coordinate_descent.py:531: ConvergenceWarning: Objective did not converge. You might want to increase the number of iterations. Duality gap: 18.09221284929663, tolerance: 12.199499193548387\n",
      "  positive)\n",
      "/Users/samg/anaconda3/lib/python3.7/site-packages/sklearn/linear_model/_coordinate_descent.py:531: ConvergenceWarning: Objective did not converge. You might want to increase the number of iterations. Duality gap: 19.83849177756929, tolerance: 12.199499193548387\n",
      "  positive)\n",
      "/Users/samg/anaconda3/lib/python3.7/site-packages/sklearn/linear_model/_coordinate_descent.py:531: ConvergenceWarning: Objective did not converge. You might want to increase the number of iterations. Duality gap: 21.386408677746658, tolerance: 12.199499193548387\n",
      "  positive)\n",
      "/Users/samg/anaconda3/lib/python3.7/site-packages/sklearn/linear_model/_coordinate_descent.py:531: ConvergenceWarning: Objective did not converge. You might want to increase the number of iterations. Duality gap: 22.74900882410293, tolerance: 12.199499193548387\n",
      "  positive)\n",
      "/Users/samg/anaconda3/lib/python3.7/site-packages/sklearn/linear_model/_coordinate_descent.py:531: ConvergenceWarning: Objective did not converge. You might want to increase the number of iterations. Duality gap: 23.85261507470568, tolerance: 12.199499193548387\n",
      "  positive)\n"
     ]
    },
    {
     "name": "stderr",
     "output_type": "stream",
     "text": [
      "/Users/samg/anaconda3/lib/python3.7/site-packages/sklearn/linear_model/_coordinate_descent.py:531: ConvergenceWarning: Objective did not converge. You might want to increase the number of iterations. Duality gap: 24.650357086335134, tolerance: 12.199499193548387\n",
      "  positive)\n"
     ]
    },
    {
     "name": "stdout",
     "output_type": "stream",
     "text": [
      "RMSE: 24.11\n",
      "alpha: 0.97\n"
     ]
    }
   ],
   "source": [
    "model_lasso_interactions_m_ball = lasso_model_fitter('m_ball', feature_interactions)\n",
    "\n",
    "print(\"RMSE: {}\".format(-model_lasso_interactions_m_ball.best_score_.round(2)))\n",
    "print(\"alpha: {}\".format(model_lasso_interactions_m_ball.best_params_['lasso__alpha'].round(2)))"
   ]
  },
  {
   "cell_type": "code",
   "execution_count": 103,
   "id": "continuous-detroit",
   "metadata": {},
   "outputs": [
    {
     "data": {
      "text/html": [
       "<div>\n",
       "<style scoped>\n",
       "    .dataframe tbody tr th:only-of-type {\n",
       "        vertical-align: middle;\n",
       "    }\n",
       "\n",
       "    .dataframe tbody tr th {\n",
       "        vertical-align: top;\n",
       "    }\n",
       "\n",
       "    .dataframe thead th {\n",
       "        text-align: right;\n",
       "    }\n",
       "</style>\n",
       "<table border=\"1\" class=\"dataframe\">\n",
       "  <thead>\n",
       "    <tr style=\"text-align: right;\">\n",
       "      <th></th>\n",
       "      <th>features</th>\n",
       "      <th>coefficient</th>\n",
       "    </tr>\n",
       "  </thead>\n",
       "  <tbody>\n",
       "    <tr>\n",
       "      <th>0</th>\n",
       "      <td>cost</td>\n",
       "      <td>5.112264</td>\n",
       "    </tr>\n",
       "    <tr>\n",
       "      <th>2</th>\n",
       "      <td>England</td>\n",
       "      <td>-1.726856</td>\n",
       "    </tr>\n",
       "    <tr>\n",
       "      <th>7</th>\n",
       "      <td>Wales</td>\n",
       "      <td>-1.247085</td>\n",
       "    </tr>\n",
       "    <tr>\n",
       "      <th>9</th>\n",
       "      <td>Centre</td>\n",
       "      <td>1.088898</td>\n",
       "    </tr>\n",
       "    <tr>\n",
       "      <th>10</th>\n",
       "      <td>Fly Half</td>\n",
       "      <td>0.939964</td>\n",
       "    </tr>\n",
       "    <tr>\n",
       "      <th>13</th>\n",
       "      <td>Prop</td>\n",
       "      <td>-0.753554</td>\n",
       "    </tr>\n",
       "    <tr>\n",
       "      <th>15</th>\n",
       "      <td>Second Row</td>\n",
       "      <td>-2.033564</td>\n",
       "    </tr>\n",
       "    <tr>\n",
       "      <th>19</th>\n",
       "      <td>cost_started</td>\n",
       "      <td>9.201873</td>\n",
       "    </tr>\n",
       "    <tr>\n",
       "      <th>20</th>\n",
       "      <td>cost_England</td>\n",
       "      <td>-1.421541</td>\n",
       "    </tr>\n",
       "    <tr>\n",
       "      <th>22</th>\n",
       "      <td>cost_Ireland</td>\n",
       "      <td>6.763918</td>\n",
       "    </tr>\n",
       "    <tr>\n",
       "      <th>23</th>\n",
       "      <td>cost_Italy</td>\n",
       "      <td>10.836085</td>\n",
       "    </tr>\n",
       "    <tr>\n",
       "      <th>27</th>\n",
       "      <td>cost_Centre</td>\n",
       "      <td>4.603675</td>\n",
       "    </tr>\n",
       "    <tr>\n",
       "      <th>29</th>\n",
       "      <td>cost_Full Back</td>\n",
       "      <td>9.360946</td>\n",
       "    </tr>\n",
       "    <tr>\n",
       "      <th>34</th>\n",
       "      <td>cost_Wing</td>\n",
       "      <td>5.651643</td>\n",
       "    </tr>\n",
       "  </tbody>\n",
       "</table>\n",
       "</div>"
      ],
      "text/plain": [
       "          features  coefficient\n",
       "0             cost     5.112264\n",
       "2          England    -1.726856\n",
       "7            Wales    -1.247085\n",
       "9           Centre     1.088898\n",
       "10        Fly Half     0.939964\n",
       "13            Prop    -0.753554\n",
       "15      Second Row    -2.033564\n",
       "19    cost_started     9.201873\n",
       "20    cost_England    -1.421541\n",
       "22    cost_Ireland     6.763918\n",
       "23      cost_Italy    10.836085\n",
       "27     cost_Centre     4.603675\n",
       "29  cost_Full Back     9.360946\n",
       "34       cost_Wing     5.651643"
      ]
     },
     "execution_count": 103,
     "metadata": {},
     "output_type": "execute_result"
    }
   ],
   "source": [
    "df = feature_coefficients(model_lasso_interactions_m_ball.best_estimator_[1], feature_interactions)\n",
    "df[df['coefficient'] != 0]"
   ]
  },
  {
   "cell_type": "code",
   "execution_count": 68,
   "id": "genetic-portugal",
   "metadata": {
    "scrolled": true
   },
   "outputs": [
    {
     "name": "stdout",
     "output_type": "stream",
     "text": [
      "RMSE: 0.25\n",
      "alpha: 0.03\n"
     ]
    }
   ],
   "source": [
    "model_lasso_interactions_tries = lasso_model_fitter('tries', feature_interactions)\n",
    "\n",
    "print(\"RMSE: {}\".format(-model_lasso_interactions_tries.best_score_.round(2)))\n",
    "print(\"alpha: {}\".format(model_lasso_interactions_tries.best_params_['lasso__alpha'].round(2)))"
   ]
  },
  {
   "cell_type": "code",
   "execution_count": 104,
   "id": "skilled-inventory",
   "metadata": {},
   "outputs": [
    {
     "data": {
      "text/html": [
       "<div>\n",
       "<style scoped>\n",
       "    .dataframe tbody tr th:only-of-type {\n",
       "        vertical-align: middle;\n",
       "    }\n",
       "\n",
       "    .dataframe tbody tr th {\n",
       "        vertical-align: top;\n",
       "    }\n",
       "\n",
       "    .dataframe thead th {\n",
       "        text-align: right;\n",
       "    }\n",
       "</style>\n",
       "<table border=\"1\" class=\"dataframe\">\n",
       "  <thead>\n",
       "    <tr style=\"text-align: right;\">\n",
       "      <th></th>\n",
       "      <th>features</th>\n",
       "      <th>coefficient</th>\n",
       "    </tr>\n",
       "  </thead>\n",
       "  <tbody>\n",
       "    <tr>\n",
       "      <th>19</th>\n",
       "      <td>cost_started</td>\n",
       "      <td>2.941112e-02</td>\n",
       "    </tr>\n",
       "    <tr>\n",
       "      <th>21</th>\n",
       "      <td>cost_France</td>\n",
       "      <td>7.963258e-02</td>\n",
       "    </tr>\n",
       "    <tr>\n",
       "      <th>34</th>\n",
       "      <td>cost_Wing</td>\n",
       "      <td>8.508535e-02</td>\n",
       "    </tr>\n",
       "    <tr>\n",
       "      <th>35</th>\n",
       "      <td>cost_v_italy</td>\n",
       "      <td>5.669902e-08</td>\n",
       "    </tr>\n",
       "  </tbody>\n",
       "</table>\n",
       "</div>"
      ],
      "text/plain": [
       "        features   coefficient\n",
       "19  cost_started  2.941112e-02\n",
       "21   cost_France  7.963258e-02\n",
       "34     cost_Wing  8.508535e-02\n",
       "35  cost_v_italy  5.669902e-08"
      ]
     },
     "execution_count": 104,
     "metadata": {},
     "output_type": "execute_result"
    }
   ],
   "source": [
    "df = feature_coefficients(model_lasso_interactions_tries.best_estimator_[1], feature_interactions)\n",
    "df[df['coefficient'] != 0]"
   ]
  },
  {
   "cell_type": "code",
   "execution_count": 69,
   "id": "cardiac-escape",
   "metadata": {},
   "outputs": [
    {
     "name": "stdout",
     "output_type": "stream",
     "text": [
      "RMSE: 0.28\n",
      "alpha: 0.18\n"
     ]
    }
   ],
   "source": [
    "model_lasso_interactions_conversions = lasso_model_fitter('conversions', feature_interactions)\n",
    "\n",
    "print(\"RMSE: {}\".format(-model_lasso_interactions_conversions.best_score_.round(2)))\n",
    "print(\"alpha: {}\".format(model_lasso_interactions_conversions.best_params_['lasso__alpha'].round(2)))"
   ]
  },
  {
   "cell_type": "code",
   "execution_count": 105,
   "id": "successful-creature",
   "metadata": {},
   "outputs": [
    {
     "data": {
      "text/html": [
       "<div>\n",
       "<style scoped>\n",
       "    .dataframe tbody tr th:only-of-type {\n",
       "        vertical-align: middle;\n",
       "    }\n",
       "\n",
       "    .dataframe tbody tr th {\n",
       "        vertical-align: top;\n",
       "    }\n",
       "\n",
       "    .dataframe thead th {\n",
       "        text-align: right;\n",
       "    }\n",
       "</style>\n",
       "<table border=\"1\" class=\"dataframe\">\n",
       "  <thead>\n",
       "    <tr style=\"text-align: right;\">\n",
       "      <th></th>\n",
       "      <th>features</th>\n",
       "      <th>coefficient</th>\n",
       "    </tr>\n",
       "  </thead>\n",
       "  <tbody>\n",
       "    <tr>\n",
       "      <th>36</th>\n",
       "      <td>cost_kicker</td>\n",
       "      <td>0.068945</td>\n",
       "    </tr>\n",
       "  </tbody>\n",
       "</table>\n",
       "</div>"
      ],
      "text/plain": [
       "       features  coefficient\n",
       "36  cost_kicker     0.068945"
      ]
     },
     "execution_count": 105,
     "metadata": {},
     "output_type": "execute_result"
    }
   ],
   "source": [
    "df = feature_coefficients(model_lasso_interactions_conversions.best_estimator_[1], feature_interactions)\n",
    "df[df['coefficient'] != 0]"
   ]
  },
  {
   "cell_type": "code",
   "execution_count": 70,
   "id": "uniform-advocate",
   "metadata": {},
   "outputs": [
    {
     "name": "stdout",
     "output_type": "stream",
     "text": [
      "RMSE: 0.21\n",
      "alpha: 0.07\n"
     ]
    }
   ],
   "source": [
    "model_lasso_interactions_penalties = lasso_model_fitter('penalties', feature_interactions)\n",
    "\n",
    "print(\"RMSE: {}\".format(-model_lasso_interactions_penalties.best_score_.round(2)))\n",
    "print(\"alpha: {}\".format(model_lasso_interactions_penalties.best_params_['lasso__alpha'].round(2)))"
   ]
  },
  {
   "cell_type": "code",
   "execution_count": 106,
   "id": "professional-portuguese",
   "metadata": {},
   "outputs": [
    {
     "data": {
      "text/html": [
       "<div>\n",
       "<style scoped>\n",
       "    .dataframe tbody tr th:only-of-type {\n",
       "        vertical-align: middle;\n",
       "    }\n",
       "\n",
       "    .dataframe tbody tr th {\n",
       "        vertical-align: top;\n",
       "    }\n",
       "\n",
       "    .dataframe thead th {\n",
       "        text-align: right;\n",
       "    }\n",
       "</style>\n",
       "<table border=\"1\" class=\"dataframe\">\n",
       "  <thead>\n",
       "    <tr style=\"text-align: right;\">\n",
       "      <th></th>\n",
       "      <th>features</th>\n",
       "      <th>coefficient</th>\n",
       "    </tr>\n",
       "  </thead>\n",
       "  <tbody>\n",
       "    <tr>\n",
       "      <th>36</th>\n",
       "      <td>cost_kicker</td>\n",
       "      <td>0.251529</td>\n",
       "    </tr>\n",
       "  </tbody>\n",
       "</table>\n",
       "</div>"
      ],
      "text/plain": [
       "       features  coefficient\n",
       "36  cost_kicker     0.251529"
      ]
     },
     "execution_count": 106,
     "metadata": {},
     "output_type": "execute_result"
    }
   ],
   "source": [
    "df = feature_coefficients(model_lasso_interactions_penalties.best_estimator_[1], feature_interactions)\n",
    "df[df['coefficient'] != 0]"
   ]
  },
  {
   "cell_type": "code",
   "execution_count": 71,
   "id": "prerequisite-railway",
   "metadata": {},
   "outputs": [
    {
     "data": {
      "text/plain": [
       "13.716631473707649"
      ]
     },
     "execution_count": 71,
     "metadata": {},
     "output_type": "execute_result"
    }
   ],
   "source": [
    "y_pred_multiple_lasso_interactions = test_data_predictor_multiple(players_test, 'lasso', True)['overall_score']\n",
    "\n",
    "mean_squared_error(y_test, y_pred_multiple_lasso_interactions)**0.5"
   ]
  }
 ],
 "metadata": {
  "kernelspec": {
   "display_name": "Python 3",
   "language": "python",
   "name": "python3"
  },
  "language_info": {
   "codemirror_mode": {
    "name": "ipython",
    "version": 3
   },
   "file_extension": ".py",
   "mimetype": "text/x-python",
   "name": "python",
   "nbconvert_exporter": "python",
   "pygments_lexer": "ipython3",
   "version": "3.7.9"
  },
  "toc": {
   "base_numbering": 1,
   "nav_menu": {},
   "number_sections": true,
   "sideBar": false,
   "skip_h1_title": false,
   "title_cell": "Table of Contents",
   "title_sidebar": "Contents",
   "toc_cell": false,
   "toc_position": {},
   "toc_section_display": true,
   "toc_window_display": false
  }
 },
 "nbformat": 4,
 "nbformat_minor": 5
}
